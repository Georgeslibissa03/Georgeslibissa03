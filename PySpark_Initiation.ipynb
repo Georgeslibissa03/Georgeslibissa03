{
  "nbformat": 4,
  "nbformat_minor": 0,
  "metadata": {
    "colab": {
      "provenance": [],
      "include_colab_link": true
    },
    "kernelspec": {
      "name": "python3",
      "display_name": "Python 3"
    },
    "language_info": {
      "name": "python"
    }
  },
  "cells": [
    {
      "cell_type": "markdown",
      "metadata": {
        "id": "view-in-github",
        "colab_type": "text"
      },
      "source": [
        "<a href=\"https://colab.research.google.com/github/Georgeslibissa03/Georgeslibissa03/blob/main/PySpark_Initiation.ipynb\" target=\"_parent\"><img src=\"https://colab.research.google.com/assets/colab-badge.svg\" alt=\"Open In Colab\"/></a>"
      ]
    },
    {
      "cell_type": "code",
      "execution_count": null,
      "metadata": {
        "colab": {
          "base_uri": "https://localhost:8080/"
        },
        "id": "wNYzDMeILKXm",
        "outputId": "6f0ee8b9-e546-461e-896e-223fbbbfb28d"
      },
      "outputs": [
        {
          "output_type": "stream",
          "name": "stdout",
          "text": [
            "\r0% [Working]\r            \rHit:1 https://cloud.r-project.org/bin/linux/ubuntu bionic-cran40/ InRelease\n",
            "\r0% [Waiting for headers] [Waiting for headers] [Waiting for headers] [Connectin\r0% [1 InRelease gpgv 3,626 B] [Waiting for headers] [Waiting for headers] [Wait\r                                                                               \rHit:2 http://security.ubuntu.com/ubuntu bionic-security InRelease\n",
            "\r0% [1 InRelease gpgv 3,626 B] [Waiting for headers] [Waiting for headers] [Wait\r                                                                               \rIgn:3 https://developer.download.nvidia.com/compute/machine-learning/repos/ubuntu1804/x86_64  InRelease\n",
            "\r0% [1 InRelease gpgv 3,626 B] [Waiting for headers] [Waiting for headers] [Wait\r                                                                               \rHit:4 https://developer.download.nvidia.com/compute/cuda/repos/ubuntu1804/x86_64  InRelease\n",
            "\r                                                                               \r0% [1 InRelease gpgv 3,626 B] [Waiting for headers] [Waiting for headers]\r                                                                         \rHit:5 http://archive.ubuntu.com/ubuntu bionic InRelease\n",
            "\r0% [1 InRelease gpgv 3,626 B] [Waiting for headers] [Waiting for headers]\r                                                                         \rHit:6 https://developer.download.nvidia.com/compute/machine-learning/repos/ubuntu1804/x86_64  Release\n",
            "Hit:7 http://ppa.launchpad.net/c2d4u.team/c2d4u4.0+/ubuntu bionic InRelease\n",
            "Hit:8 http://archive.ubuntu.com/ubuntu bionic-updates InRelease\n",
            "Hit:9 http://archive.ubuntu.com/ubuntu bionic-backports InRelease\n",
            "Hit:10 http://ppa.launchpad.net/cran/libgit2/ubuntu bionic InRelease\n",
            "Hit:11 http://ppa.launchpad.net/deadsnakes/ppa/ubuntu bionic InRelease\n",
            "Hit:12 http://ppa.launchpad.net/graphics-drivers/ppa/ubuntu bionic InRelease\n",
            "Reading package lists... Done\n",
            "E: Unable to locate package openjdk-8-jdk6headless\n"
          ]
        }
      ],
      "source": [
        "!apt-get update\n",
        "!apt-get install openjdk-8-jdk6headless -qq > /dev/null\n",
        "!wget -q http://archive.apache.org/dist/spark/spark-2.3.1/spark-2.3.1-bin-hadoop2.7.tgz\n",
        "!tar xf spark-2.3.1-bin-hadoop2.7.tgz\n",
        "!pip install -q findspark"
      ]
    },
    {
      "cell_type": "code",
      "source": [
        "!apt install openjdk-8-jdk"
      ],
      "metadata": {
        "colab": {
          "base_uri": "https://localhost:8080/"
        },
        "id": "bzoWOMp3Ru2B",
        "outputId": "a1907973-67b8-4dcc-d61b-3b22bc11dd76"
      },
      "execution_count": null,
      "outputs": [
        {
          "output_type": "stream",
          "name": "stdout",
          "text": [
            "Reading package lists... Done\n",
            "Building dependency tree       \n",
            "Reading state information... Done\n",
            "openjdk-8-jdk is already the newest version (8u342-b07-0ubuntu1~18.04).\n",
            "The following package was automatically installed and is no longer required:\n",
            "  libnvidia-common-460\n",
            "Use 'apt autoremove' to remove it.\n",
            "0 upgraded, 0 newly installed, 0 to remove and 27 not upgraded.\n"
          ]
        }
      ]
    },
    {
      "cell_type": "code",
      "source": [
        "import os\n",
        "os.environ[\"JAVA_HOME\"] = \"/usr/lib/jvm/java-8-openjdk-amd64\"\n",
        "os.environ[\"SPARK_HOME\"] = \"/content/spark-2.3.1-bin-hadoop2.7\"\n",
        "os.environ[\"HADOOP_HOME\"] = \"/content/spark-2.3.1-bin-hadoop2.7\"\n"
      ],
      "metadata": {
        "id": "8eMrExPhMXTR"
      },
      "execution_count": null,
      "outputs": []
    },
    {
      "cell_type": "code",
      "source": [
        "!ls"
      ],
      "metadata": {
        "id": "8Ejruf2hM9VJ",
        "colab": {
          "base_uri": "https://localhost:8080/"
        },
        "outputId": "88faf7f5-bbff-4932-8fa0-77ebaf83212c"
      },
      "execution_count": null,
      "outputs": [
        {
          "output_type": "stream",
          "name": "stdout",
          "text": [
            "'03_03_data (1).csv'   spark-2.3.1-bin-hadoop2.7\t spark-warehouse\n",
            "'03_03_data (2).csv'   spark-2.3.1-bin-hadoop2.7.tgz\t'texte (1).txt'\n",
            " 03_03_data.csv        spark-2.3.1-bin-hadoop2.7.tgz.1\t'texte (2).txt'\n",
            " sample_data\t       spark-2.3.1-bin-hadoop2.7.tgz.2\t texte.txt\n"
          ]
        }
      ]
    },
    {
      "cell_type": "code",
      "source": [
        "!update-alternatives --config java\n"
      ],
      "metadata": {
        "id": "RxSXeGNmQRVm",
        "colab": {
          "base_uri": "https://localhost:8080/"
        },
        "outputId": "4d1aeee6-bc40-4172-ff27-916f0f137769"
      },
      "execution_count": null,
      "outputs": [
        {
          "output_type": "stream",
          "name": "stdout",
          "text": [
            "There are 2 choices for the alternative java (providing /usr/bin/java).\n",
            "\n",
            "  Selection    Path                                            Priority   Status\n",
            "------------------------------------------------------------\n",
            "  0            /usr/lib/jvm/java-11-openjdk-amd64/bin/java      1111      auto mode\n",
            "* 1            /usr/lib/jvm/java-11-openjdk-amd64/bin/java      1111      manual mode\n",
            "  2            /usr/lib/jvm/java-8-openjdk-amd64/jre/bin/java   1081      manual mode\n",
            "\n",
            "Press <enter> to keep the current choice[*], or type selection number: 0\n"
          ]
        }
      ]
    },
    {
      "cell_type": "code",
      "source": [
        "!java -version"
      ],
      "metadata": {
        "colab": {
          "base_uri": "https://localhost:8080/"
        },
        "id": "a0tLHYNkSM8y",
        "outputId": "045eac95-7dd0-48d4-ccda-902ba8f87a73"
      },
      "execution_count": null,
      "outputs": [
        {
          "output_type": "stream",
          "name": "stdout",
          "text": [
            "openjdk version \"11.0.16\" 2022-07-19\n",
            "OpenJDK Runtime Environment (build 11.0.16+8-post-Ubuntu-0ubuntu118.04)\n",
            "OpenJDK 64-Bit Server VM (build 11.0.16+8-post-Ubuntu-0ubuntu118.04, mixed mode)\n"
          ]
        }
      ]
    },
    {
      "cell_type": "code",
      "source": [
        "import findspark\n",
        "findspark.init()\n",
        "from pyspark import SparkContext\n",
        "\n",
        "sc = SparkContext.getOrCreate()\n",
        "sc"
      ],
      "metadata": {
        "colab": {
          "base_uri": "https://localhost:8080/",
          "height": 196
        },
        "id": "mC_xdYq4NFGB",
        "outputId": "ce75b706-20c6-4c4d-a8e6-9ffab9642e86"
      },
      "execution_count": null,
      "outputs": [
        {
          "output_type": "execute_result",
          "data": {
            "text/plain": [
              "<SparkContext master=local[*] appName=pyspark-shell>"
            ],
            "text/html": [
              "\n",
              "        <div>\n",
              "            <p><b>SparkContext</b></p>\n",
              "\n",
              "            <p><a href=\"http://ea853c7a7763:4040\">Spark UI</a></p>\n",
              "\n",
              "            <dl>\n",
              "              <dt>Version</dt>\n",
              "                <dd><code>v2.3.1</code></dd>\n",
              "              <dt>Master</dt>\n",
              "                <dd><code>local[*]</code></dd>\n",
              "              <dt>AppName</dt>\n",
              "                <dd><code>pyspark-shell</code></dd>\n",
              "            </dl>\n",
              "        </div>\n",
              "        "
            ]
          },
          "metadata": {},
          "execution_count": 387
        }
      ]
    },
    {
      "cell_type": "code",
      "source": [
        "import pyspark\n",
        "from pyspark.sql import SparkSession\n",
        "spark = SparkSession.builder.getOrCreate()\n",
        "spark"
      ],
      "metadata": {
        "colab": {
          "base_uri": "https://localhost:8080/",
          "height": 219
        },
        "id": "FLm7OLobNq04",
        "outputId": "d183582a-7ed8-475c-95cb-a1f00ebb0faa"
      },
      "execution_count": null,
      "outputs": [
        {
          "output_type": "execute_result",
          "data": {
            "text/plain": [
              "<pyspark.sql.session.SparkSession at 0x7f3449995090>"
            ],
            "text/html": [
              "\n",
              "            <div>\n",
              "                <p><b>SparkSession - in-memory</b></p>\n",
              "                \n",
              "        <div>\n",
              "            <p><b>SparkContext</b></p>\n",
              "\n",
              "            <p><a href=\"http://ea853c7a7763:4040\">Spark UI</a></p>\n",
              "\n",
              "            <dl>\n",
              "              <dt>Version</dt>\n",
              "                <dd><code>v2.3.1</code></dd>\n",
              "              <dt>Master</dt>\n",
              "                <dd><code>local[*]</code></dd>\n",
              "              <dt>AppName</dt>\n",
              "                <dd><code>pyspark-shell</code></dd>\n",
              "            </dl>\n",
              "        </div>\n",
              "        \n",
              "            </div>\n",
              "        "
            ]
          },
          "metadata": {},
          "execution_count": 388
        }
      ]
    },
    {
      "cell_type": "code",
      "source": [
        "import pyspark.sql.functions as findspark\n",
        "from pyspark.sql.types import *"
      ],
      "metadata": {
        "id": "RmIo46ncTQmC"
      },
      "execution_count": null,
      "outputs": []
    },
    {
      "cell_type": "code",
      "source": [
        "schema=StructType().add(\"id_utilisateur\",\"string\").add(\"pays\",\"string\").add(\"profession\", \"string\").add(\"genre\",'string').add(\"age\", \"integer\")"
      ],
      "metadata": {
        "id": "nRtyuS74Bhl3"
      },
      "execution_count": null,
      "outputs": []
    },
    {
      "cell_type": "code",
      "source": [
        "df=spark.createDataFrame([(\"A123\",'Maroc',\"Médécin\",\"Femme\", 33),(\"B234\",'Canada',\"Entrepreneur\",\"Femme\",35),(\"345\",'France',\"Professeur\",\"Femme\",40)],schema=schema)"
      ],
      "metadata": {
        "id": "TKUZemlKcbBA"
      },
      "execution_count": null,
      "outputs": []
    },
    {
      "cell_type": "code",
      "source": [
        "df.printSchema()"
      ],
      "metadata": {
        "colab": {
          "base_uri": "https://localhost:8080/"
        },
        "id": "q0blO13LeAqv",
        "outputId": "0331d3fb-5e8a-45d8-f95a-59a02b443141"
      },
      "execution_count": null,
      "outputs": [
        {
          "output_type": "stream",
          "name": "stdout",
          "text": [
            "root\n",
            " |-- id_utilisateur: string (nullable = true)\n",
            " |-- pays: string (nullable = true)\n",
            " |-- profession: string (nullable = true)\n",
            " |-- genre: string (nullable = true)\n",
            " |-- age: integer (nullable = true)\n",
            "\n"
          ]
        }
      ]
    },
    {
      "cell_type": "code",
      "source": [
        "df.show()"
      ],
      "metadata": {
        "colab": {
          "base_uri": "https://localhost:8080/"
        },
        "id": "2UWKUSqoeIh1",
        "outputId": "cd7a0208-7449-4bca-85a0-740cdf87d379"
      },
      "execution_count": null,
      "outputs": [
        {
          "output_type": "stream",
          "name": "stdout",
          "text": [
            "+--------------+------+------------+-----+---+\n",
            "|id_utilisateur|  pays|  profession|genre|age|\n",
            "+--------------+------+------------+-----+---+\n",
            "|          A123| Maroc|     Médécin|Femme| 33|\n",
            "|          B234|Canada|Entrepreneur|Femme| 35|\n",
            "|           345|France|  Professeur|Femme| 40|\n",
            "+--------------+------+------------+-----+---+\n",
            "\n"
          ]
        }
      ]
    },
    {
      "cell_type": "code",
      "source": [
        "# Importer les données\n",
        "# Ces données représentent l'étude de l'évolution des Part des énergies renouvelables\n",
        "# Dans la consommation finale brute d’énergie dans l’Union européenne\n",
        "\n",
        "from google.colab import files\n",
        "files.upload()"
      ],
      "metadata": {
        "colab": {
          "base_uri": "https://localhost:8080/",
          "height": 215
        },
        "id": "qcyQbUI9eOIZ",
        "outputId": "12a4ccfb-f1b8-436d-82fc-49cd9aa71622"
      },
      "execution_count": null,
      "outputs": [
        {
          "output_type": "display_data",
          "data": {
            "text/plain": [
              "<IPython.core.display.HTML object>"
            ],
            "text/html": [
              "\n",
              "     <input type=\"file\" id=\"files-c124e8b6-1750-4684-b212-972c9af3634f\" name=\"files[]\" multiple disabled\n",
              "        style=\"border:none\" />\n",
              "     <output id=\"result-c124e8b6-1750-4684-b212-972c9af3634f\">\n",
              "      Upload widget is only available when the cell has been executed in the\n",
              "      current browser session. Please rerun this cell to enable.\n",
              "      </output>\n",
              "      <script>// Copyright 2017 Google LLC\n",
              "//\n",
              "// Licensed under the Apache License, Version 2.0 (the \"License\");\n",
              "// you may not use this file except in compliance with the License.\n",
              "// You may obtain a copy of the License at\n",
              "//\n",
              "//      http://www.apache.org/licenses/LICENSE-2.0\n",
              "//\n",
              "// Unless required by applicable law or agreed to in writing, software\n",
              "// distributed under the License is distributed on an \"AS IS\" BASIS,\n",
              "// WITHOUT WARRANTIES OR CONDITIONS OF ANY KIND, either express or implied.\n",
              "// See the License for the specific language governing permissions and\n",
              "// limitations under the License.\n",
              "\n",
              "/**\n",
              " * @fileoverview Helpers for google.colab Python module.\n",
              " */\n",
              "(function(scope) {\n",
              "function span(text, styleAttributes = {}) {\n",
              "  const element = document.createElement('span');\n",
              "  element.textContent = text;\n",
              "  for (const key of Object.keys(styleAttributes)) {\n",
              "    element.style[key] = styleAttributes[key];\n",
              "  }\n",
              "  return element;\n",
              "}\n",
              "\n",
              "// Max number of bytes which will be uploaded at a time.\n",
              "const MAX_PAYLOAD_SIZE = 100 * 1024;\n",
              "\n",
              "function _uploadFiles(inputId, outputId) {\n",
              "  const steps = uploadFilesStep(inputId, outputId);\n",
              "  const outputElement = document.getElementById(outputId);\n",
              "  // Cache steps on the outputElement to make it available for the next call\n",
              "  // to uploadFilesContinue from Python.\n",
              "  outputElement.steps = steps;\n",
              "\n",
              "  return _uploadFilesContinue(outputId);\n",
              "}\n",
              "\n",
              "// This is roughly an async generator (not supported in the browser yet),\n",
              "// where there are multiple asynchronous steps and the Python side is going\n",
              "// to poll for completion of each step.\n",
              "// This uses a Promise to block the python side on completion of each step,\n",
              "// then passes the result of the previous step as the input to the next step.\n",
              "function _uploadFilesContinue(outputId) {\n",
              "  const outputElement = document.getElementById(outputId);\n",
              "  const steps = outputElement.steps;\n",
              "\n",
              "  const next = steps.next(outputElement.lastPromiseValue);\n",
              "  return Promise.resolve(next.value.promise).then((value) => {\n",
              "    // Cache the last promise value to make it available to the next\n",
              "    // step of the generator.\n",
              "    outputElement.lastPromiseValue = value;\n",
              "    return next.value.response;\n",
              "  });\n",
              "}\n",
              "\n",
              "/**\n",
              " * Generator function which is called between each async step of the upload\n",
              " * process.\n",
              " * @param {string} inputId Element ID of the input file picker element.\n",
              " * @param {string} outputId Element ID of the output display.\n",
              " * @return {!Iterable<!Object>} Iterable of next steps.\n",
              " */\n",
              "function* uploadFilesStep(inputId, outputId) {\n",
              "  const inputElement = document.getElementById(inputId);\n",
              "  inputElement.disabled = false;\n",
              "\n",
              "  const outputElement = document.getElementById(outputId);\n",
              "  outputElement.innerHTML = '';\n",
              "\n",
              "  const pickedPromise = new Promise((resolve) => {\n",
              "    inputElement.addEventListener('change', (e) => {\n",
              "      resolve(e.target.files);\n",
              "    });\n",
              "  });\n",
              "\n",
              "  const cancel = document.createElement('button');\n",
              "  inputElement.parentElement.appendChild(cancel);\n",
              "  cancel.textContent = 'Cancel upload';\n",
              "  const cancelPromise = new Promise((resolve) => {\n",
              "    cancel.onclick = () => {\n",
              "      resolve(null);\n",
              "    };\n",
              "  });\n",
              "\n",
              "  // Wait for the user to pick the files.\n",
              "  const files = yield {\n",
              "    promise: Promise.race([pickedPromise, cancelPromise]),\n",
              "    response: {\n",
              "      action: 'starting',\n",
              "    }\n",
              "  };\n",
              "\n",
              "  cancel.remove();\n",
              "\n",
              "  // Disable the input element since further picks are not allowed.\n",
              "  inputElement.disabled = true;\n",
              "\n",
              "  if (!files) {\n",
              "    return {\n",
              "      response: {\n",
              "        action: 'complete',\n",
              "      }\n",
              "    };\n",
              "  }\n",
              "\n",
              "  for (const file of files) {\n",
              "    const li = document.createElement('li');\n",
              "    li.append(span(file.name, {fontWeight: 'bold'}));\n",
              "    li.append(span(\n",
              "        `(${file.type || 'n/a'}) - ${file.size} bytes, ` +\n",
              "        `last modified: ${\n",
              "            file.lastModifiedDate ? file.lastModifiedDate.toLocaleDateString() :\n",
              "                                    'n/a'} - `));\n",
              "    const percent = span('0% done');\n",
              "    li.appendChild(percent);\n",
              "\n",
              "    outputElement.appendChild(li);\n",
              "\n",
              "    const fileDataPromise = new Promise((resolve) => {\n",
              "      const reader = new FileReader();\n",
              "      reader.onload = (e) => {\n",
              "        resolve(e.target.result);\n",
              "      };\n",
              "      reader.readAsArrayBuffer(file);\n",
              "    });\n",
              "    // Wait for the data to be ready.\n",
              "    let fileData = yield {\n",
              "      promise: fileDataPromise,\n",
              "      response: {\n",
              "        action: 'continue',\n",
              "      }\n",
              "    };\n",
              "\n",
              "    // Use a chunked sending to avoid message size limits. See b/62115660.\n",
              "    let position = 0;\n",
              "    do {\n",
              "      const length = Math.min(fileData.byteLength - position, MAX_PAYLOAD_SIZE);\n",
              "      const chunk = new Uint8Array(fileData, position, length);\n",
              "      position += length;\n",
              "\n",
              "      const base64 = btoa(String.fromCharCode.apply(null, chunk));\n",
              "      yield {\n",
              "        response: {\n",
              "          action: 'append',\n",
              "          file: file.name,\n",
              "          data: base64,\n",
              "        },\n",
              "      };\n",
              "\n",
              "      let percentDone = fileData.byteLength === 0 ?\n",
              "          100 :\n",
              "          Math.round((position / fileData.byteLength) * 100);\n",
              "      percent.textContent = `${percentDone}% done`;\n",
              "\n",
              "    } while (position < fileData.byteLength);\n",
              "  }\n",
              "\n",
              "  // All done.\n",
              "  yield {\n",
              "    response: {\n",
              "      action: 'complete',\n",
              "    }\n",
              "  };\n",
              "}\n",
              "\n",
              "scope.google = scope.google || {};\n",
              "scope.google.colab = scope.google.colab || {};\n",
              "scope.google.colab._files = {\n",
              "  _uploadFiles,\n",
              "  _uploadFilesContinue,\n",
              "};\n",
              "})(self);\n",
              "</script> "
            ]
          },
          "metadata": {}
        },
        {
          "output_type": "stream",
          "name": "stdout",
          "text": [
            "Saving 03_03_data.csv to 03_03_data (3).csv\n"
          ]
        },
        {
          "output_type": "execute_result",
          "data": {
            "text/plain": [
              "{'03_03_data.csv': b'Pays;2005;2006;2007;2008;2009;2010;2011;2012;2013;2014;2015;2016;2017;2018\\r\\nAllemagne;7,20;8,50;10,10;10,10;10,90;11,70;12,50;13,60;13,80;14,40;14,90;14,90;15,50;16,50\\r\\nAutriche;24,40;26,30;28,20;28,90;31,00;31,20;31,60;32,70;32,80;33,70;33,50;33,40;33,10;33,40\\r\\nBelgique;2,30;2,60;3,10;3,60;4,70;5,60;6,30;7,20;7,50;8,00;8,00;8,70;9,10;9,40\\r\\nBulgarie;9,20;9,40;9,10;10,30;12,00;13,90;14,20;15,80;18,90;18,10;18,30;18,80;18,70;20,50\\r\\nChypre;3,10;3,30;4,00;5,10;5,90;6,20;6,30;7,10;8,50;9,20;9,90;9,90;10,50;13,90\\r\\nCroatie;23,70;22,70;22,20;22,00;23,60;25,10;25,40;26,80;28,00;27,80;29,00;28,30;27,30;28,00\\r\\nDanemark;16,00;16,30;17,70;18,50;20,00;21,90;23,40;25,50;27,20;29,30;30,80;31,80;34,70;35,70\\r\\nEspagne;8,40;9,10;9,70;10,70;13,00;13,80;13,20;14,30;15,30;16,10;16,20;17,40;17,60;17,50\\r\\nEstonie;17,40;16,00;17,00;18,60;22,90;24,60;25,30;25,50;25,30;26,10;28,20;28,70;29,10;30,00\\r\\nFinlande;28,80;30,10;29,60;31,40;31,30;32,40;32,80;34,40;36,70;38,80;39,30;39,00;40,90;41,20\\r\\nFrance;9,60;9,30;10,20;11,20;12,20;12,70;(1) 12,7;13,40;14,00;14,60;15,00;15,70;16,00;16,60\\r\\nGr\\xe8ce;7,30;7,50;8,20;8,20;8,70;10,10;11,20;13,70;15,30;15,70;15,70;15,40;17,00;18,00\\r\\nHongrie;6,90;7,40;8,60;8,60;11,70;12,70;14,00;15,50;16,20;14,60;14,50;14,30;13,50;12,50\\r\\nIrlande;2,80;3,00;3,50;3,90;5,20;5,70;6,60;7,10;7,60;8,60;9,10;9,30;10,60;11,10\\r\\nItalie;7,50;8,30;9,80;11,50;12,80;13,00;12,90;15,40;16,70;17,10;17,50;17,40;18,30;17,80\\r\\nLettonie;32,30;31,10;29,60;29,80;34,30;30,40;33,50;35,70;37,00;38,60;37,50;37,10;39,00;40,30\\r\\nLituanie;16,80;16,90;16,50;17,80;19,80;19,60;19,90;21,40;22,70;23,60;25,80;25,60;26,00;24,40\\r\\nLuxembourg;1,40;1,50;2,70;2,80;2,90;2,90;2,90;3,10;3,50;4,50;5,10;5,40;6,30;9,10\\r\\nMalte;0,10;0,10;0,20;0,20;0,20;1,00;1,90;2,90;3,80;4,70;5,10;6,20;7,30;8,00\\r\\nPays-Bas;2,50;2,80;3,30;3,60;4,30;3,90;4,50;4,70;4,70;5,40;5,70;5,80;6,50;7,40\\r\\nPologne;6,90;6,90;6,90;7,70;8,70;9,30;10,30;10,90;11,40;11,50;11,70;11,30;11,00;11,30\\r\\nPortugal;19,50;20,80;21,90;22,90;24,40;24,20;24,60;24,60;25,70;29,50;30,50;30,90;30,60;30,30\\r\\nR\\xe9publique tch\\xe8que;7,10;7,40;7,90;8,70;10,00;10,50;10,90;12,80;13,90;15,10;15,10;14,90;14,80;15,20\\r\\nRoumanie;17,60;17,10;18,20;20,20;22,20;22,80;21,20;22,80;23,90;24,80;24,80;25,00;24,50;23,90\\r\\nRoyaume-Uni;1,10;1,30;1,60;2,70;3,30;3,80;4,30;4,40;5,50;6,70;8,30;9,00;9,70;11,00\\r\\nSlovaquie;6,40;6,60;7,80;7,70;9,40;9,10;10,30;10,50;10,10;11,70;12,90;12,00;11,50;11,90\\r\\nSlov\\xe9nie;16,00;15,60;15,60;15,00;20,10;20,40;20,30;20,80;22,40;21,50;21,90;21,30;21,10;21,10\\r\\nSu\\xe8de;40,70;42,40;43,90;44,70;47,90;47,00;48,20;50,20;50,80;51,90;53,00;53,40;54,20;54,60\\r\\n'}"
            ]
          },
          "metadata": {},
          "execution_count": 277
        }
      ]
    },
    {
      "cell_type": "code",
      "source": [
        "df = spark.read.option(\"delimiter\", \";\").csv('03_03_data.csv',header=True)\n",
        "type(df)"
      ],
      "metadata": {
        "colab": {
          "base_uri": "https://localhost:8080/"
        },
        "id": "_VIZind6gfYw",
        "outputId": "6f2d3576-e469-455c-838b-2e666e302a68"
      },
      "execution_count": null,
      "outputs": [
        {
          "output_type": "execute_result",
          "data": {
            "text/plain": [
              "pyspark.sql.dataframe.DataFrame"
            ]
          },
          "metadata": {},
          "execution_count": 278
        }
      ]
    },
    {
      "cell_type": "code",
      "source": [
        "df.show()"
      ],
      "metadata": {
        "colab": {
          "base_uri": "https://localhost:8080/"
        },
        "id": "uF5vAvNsi1Ki",
        "outputId": "6792515d-b0e8-42ae-a7bd-60418be68dc8"
      },
      "execution_count": null,
      "outputs": [
        {
          "output_type": "stream",
          "name": "stdout",
          "text": [
            "+----------+-----+-----+-----+-----+-----+-----+--------+-----+-----+-----+-----+-----+-----+-----+\n",
            "|      Pays| 2005| 2006| 2007| 2008| 2009| 2010|    2011| 2012| 2013| 2014| 2015| 2016| 2017| 2018|\n",
            "+----------+-----+-----+-----+-----+-----+-----+--------+-----+-----+-----+-----+-----+-----+-----+\n",
            "| Allemagne| 7,20| 8,50|10,10|10,10|10,90|11,70|   12,50|13,60|13,80|14,40|14,90|14,90|15,50|16,50|\n",
            "|  Autriche|24,40|26,30|28,20|28,90|31,00|31,20|   31,60|32,70|32,80|33,70|33,50|33,40|33,10|33,40|\n",
            "|  Belgique| 2,30| 2,60| 3,10| 3,60| 4,70| 5,60|    6,30| 7,20| 7,50| 8,00| 8,00| 8,70| 9,10| 9,40|\n",
            "|  Bulgarie| 9,20| 9,40| 9,10|10,30|12,00|13,90|   14,20|15,80|18,90|18,10|18,30|18,80|18,70|20,50|\n",
            "|    Chypre| 3,10| 3,30| 4,00| 5,10| 5,90| 6,20|    6,30| 7,10| 8,50| 9,20| 9,90| 9,90|10,50|13,90|\n",
            "|   Croatie|23,70|22,70|22,20|22,00|23,60|25,10|   25,40|26,80|28,00|27,80|29,00|28,30|27,30|28,00|\n",
            "|  Danemark|16,00|16,30|17,70|18,50|20,00|21,90|   23,40|25,50|27,20|29,30|30,80|31,80|34,70|35,70|\n",
            "|   Espagne| 8,40| 9,10| 9,70|10,70|13,00|13,80|   13,20|14,30|15,30|16,10|16,20|17,40|17,60|17,50|\n",
            "|   Estonie|17,40|16,00|17,00|18,60|22,90|24,60|   25,30|25,50|25,30|26,10|28,20|28,70|29,10|30,00|\n",
            "|  Finlande|28,80|30,10|29,60|31,40|31,30|32,40|   32,80|34,40|36,70|38,80|39,30|39,00|40,90|41,20|\n",
            "|    France| 9,60| 9,30|10,20|11,20|12,20|12,70|(1) 12,7|13,40|14,00|14,60|15,00|15,70|16,00|16,60|\n",
            "|     Gr�ce| 7,30| 7,50| 8,20| 8,20| 8,70|10,10|   11,20|13,70|15,30|15,70|15,70|15,40|17,00|18,00|\n",
            "|   Hongrie| 6,90| 7,40| 8,60| 8,60|11,70|12,70|   14,00|15,50|16,20|14,60|14,50|14,30|13,50|12,50|\n",
            "|   Irlande| 2,80| 3,00| 3,50| 3,90| 5,20| 5,70|    6,60| 7,10| 7,60| 8,60| 9,10| 9,30|10,60|11,10|\n",
            "|    Italie| 7,50| 8,30| 9,80|11,50|12,80|13,00|   12,90|15,40|16,70|17,10|17,50|17,40|18,30|17,80|\n",
            "|  Lettonie|32,30|31,10|29,60|29,80|34,30|30,40|   33,50|35,70|37,00|38,60|37,50|37,10|39,00|40,30|\n",
            "|  Lituanie|16,80|16,90|16,50|17,80|19,80|19,60|   19,90|21,40|22,70|23,60|25,80|25,60|26,00|24,40|\n",
            "|Luxembourg| 1,40| 1,50| 2,70| 2,80| 2,90| 2,90|    2,90| 3,10| 3,50| 4,50| 5,10| 5,40| 6,30| 9,10|\n",
            "|     Malte| 0,10| 0,10| 0,20| 0,20| 0,20| 1,00|    1,90| 2,90| 3,80| 4,70| 5,10| 6,20| 7,30| 8,00|\n",
            "|  Pays-Bas| 2,50| 2,80| 3,30| 3,60| 4,30| 3,90|    4,50| 4,70| 4,70| 5,40| 5,70| 5,80| 6,50| 7,40|\n",
            "+----------+-----+-----+-----+-----+-----+-----+--------+-----+-----+-----+-----+-----+-----+-----+\n",
            "only showing top 20 rows\n",
            "\n"
          ]
        }
      ]
    },
    {
      "cell_type": "code",
      "source": [
        "df.count()"
      ],
      "metadata": {
        "colab": {
          "base_uri": "https://localhost:8080/"
        },
        "id": "iJ9TUWV0loK4",
        "outputId": "2e6505ce-bff6-43a3-be77-96011c1ea55f"
      },
      "execution_count": null,
      "outputs": [
        {
          "output_type": "execute_result",
          "data": {
            "text/plain": [
              "28"
            ]
          },
          "metadata": {},
          "execution_count": 280
        }
      ]
    },
    {
      "cell_type": "code",
      "source": [
        "# nombre de colonnes\n",
        "\n",
        "len(df.columns)"
      ],
      "metadata": {
        "colab": {
          "base_uri": "https://localhost:8080/"
        },
        "id": "MuYWwhKSmihH",
        "outputId": "c685fccd-a598-431e-e487-01012f0b5b57"
      },
      "execution_count": null,
      "outputs": [
        {
          "output_type": "execute_result",
          "data": {
            "text/plain": [
              "15"
            ]
          },
          "metadata": {},
          "execution_count": 281
        }
      ]
    },
    {
      "cell_type": "code",
      "source": [
        "# retourner les éléments par lignes\n",
        "\n",
        "df.take(3)"
      ],
      "metadata": {
        "colab": {
          "base_uri": "https://localhost:8080/"
        },
        "id": "wgHeG-ElmugV",
        "outputId": "37b0bac1-44fa-43e6-cc13-888f8e19da4f"
      },
      "execution_count": null,
      "outputs": [
        {
          "output_type": "execute_result",
          "data": {
            "text/plain": [
              "[Row(Pays='Allemagne', 2005='7,20', 2006='8,50', 2007='10,10', 2008='10,10', 2009='10,90', 2010='11,70', 2011='12,50', 2012='13,60', 2013='13,80', 2014='14,40', 2015='14,90', 2016='14,90', 2017='15,50', 2018='16,50'),\n",
              " Row(Pays='Autriche', 2005='24,40', 2006='26,30', 2007='28,20', 2008='28,90', 2009='31,00', 2010='31,20', 2011='31,60', 2012='32,70', 2013='32,80', 2014='33,70', 2015='33,50', 2016='33,40', 2017='33,10', 2018='33,40'),\n",
              " Row(Pays='Belgique', 2005='2,30', 2006='2,60', 2007='3,10', 2008='3,60', 2009='4,70', 2010='5,60', 2011='6,30', 2012='7,20', 2013='7,50', 2014='8,00', 2015='8,00', 2016='8,70', 2017='9,10', 2018='9,40')]"
            ]
          },
          "metadata": {},
          "execution_count": 282
        }
      ]
    },
    {
      "cell_type": "code",
      "source": [
        "# retourner l'ensemble des éléments\n",
        "\n",
        "df.collect()"
      ],
      "metadata": {
        "colab": {
          "base_uri": "https://localhost:8080/"
        },
        "id": "aeSnsfFum-YR",
        "outputId": "b5150739-8a5e-4c61-8773-b46a9f1fabc4"
      },
      "execution_count": null,
      "outputs": [
        {
          "output_type": "execute_result",
          "data": {
            "text/plain": [
              "[Row(Pays='Allemagne', 2005='7,20', 2006='8,50', 2007='10,10', 2008='10,10', 2009='10,90', 2010='11,70', 2011='12,50', 2012='13,60', 2013='13,80', 2014='14,40', 2015='14,90', 2016='14,90', 2017='15,50', 2018='16,50'),\n",
              " Row(Pays='Autriche', 2005='24,40', 2006='26,30', 2007='28,20', 2008='28,90', 2009='31,00', 2010='31,20', 2011='31,60', 2012='32,70', 2013='32,80', 2014='33,70', 2015='33,50', 2016='33,40', 2017='33,10', 2018='33,40'),\n",
              " Row(Pays='Belgique', 2005='2,30', 2006='2,60', 2007='3,10', 2008='3,60', 2009='4,70', 2010='5,60', 2011='6,30', 2012='7,20', 2013='7,50', 2014='8,00', 2015='8,00', 2016='8,70', 2017='9,10', 2018='9,40'),\n",
              " Row(Pays='Bulgarie', 2005='9,20', 2006='9,40', 2007='9,10', 2008='10,30', 2009='12,00', 2010='13,90', 2011='14,20', 2012='15,80', 2013='18,90', 2014='18,10', 2015='18,30', 2016='18,80', 2017='18,70', 2018='20,50'),\n",
              " Row(Pays='Chypre', 2005='3,10', 2006='3,30', 2007='4,00', 2008='5,10', 2009='5,90', 2010='6,20', 2011='6,30', 2012='7,10', 2013='8,50', 2014='9,20', 2015='9,90', 2016='9,90', 2017='10,50', 2018='13,90'),\n",
              " Row(Pays='Croatie', 2005='23,70', 2006='22,70', 2007='22,20', 2008='22,00', 2009='23,60', 2010='25,10', 2011='25,40', 2012='26,80', 2013='28,00', 2014='27,80', 2015='29,00', 2016='28,30', 2017='27,30', 2018='28,00'),\n",
              " Row(Pays='Danemark', 2005='16,00', 2006='16,30', 2007='17,70', 2008='18,50', 2009='20,00', 2010='21,90', 2011='23,40', 2012='25,50', 2013='27,20', 2014='29,30', 2015='30,80', 2016='31,80', 2017='34,70', 2018='35,70'),\n",
              " Row(Pays='Espagne', 2005='8,40', 2006='9,10', 2007='9,70', 2008='10,70', 2009='13,00', 2010='13,80', 2011='13,20', 2012='14,30', 2013='15,30', 2014='16,10', 2015='16,20', 2016='17,40', 2017='17,60', 2018='17,50'),\n",
              " Row(Pays='Estonie', 2005='17,40', 2006='16,00', 2007='17,00', 2008='18,60', 2009='22,90', 2010='24,60', 2011='25,30', 2012='25,50', 2013='25,30', 2014='26,10', 2015='28,20', 2016='28,70', 2017='29,10', 2018='30,00'),\n",
              " Row(Pays='Finlande', 2005='28,80', 2006='30,10', 2007='29,60', 2008='31,40', 2009='31,30', 2010='32,40', 2011='32,80', 2012='34,40', 2013='36,70', 2014='38,80', 2015='39,30', 2016='39,00', 2017='40,90', 2018='41,20'),\n",
              " Row(Pays='France', 2005='9,60', 2006='9,30', 2007='10,20', 2008='11,20', 2009='12,20', 2010='12,70', 2011='(1) 12,7', 2012='13,40', 2013='14,00', 2014='14,60', 2015='15,00', 2016='15,70', 2017='16,00', 2018='16,60'),\n",
              " Row(Pays='Gr�ce', 2005='7,30', 2006='7,50', 2007='8,20', 2008='8,20', 2009='8,70', 2010='10,10', 2011='11,20', 2012='13,70', 2013='15,30', 2014='15,70', 2015='15,70', 2016='15,40', 2017='17,00', 2018='18,00'),\n",
              " Row(Pays='Hongrie', 2005='6,90', 2006='7,40', 2007='8,60', 2008='8,60', 2009='11,70', 2010='12,70', 2011='14,00', 2012='15,50', 2013='16,20', 2014='14,60', 2015='14,50', 2016='14,30', 2017='13,50', 2018='12,50'),\n",
              " Row(Pays='Irlande', 2005='2,80', 2006='3,00', 2007='3,50', 2008='3,90', 2009='5,20', 2010='5,70', 2011='6,60', 2012='7,10', 2013='7,60', 2014='8,60', 2015='9,10', 2016='9,30', 2017='10,60', 2018='11,10'),\n",
              " Row(Pays='Italie', 2005='7,50', 2006='8,30', 2007='9,80', 2008='11,50', 2009='12,80', 2010='13,00', 2011='12,90', 2012='15,40', 2013='16,70', 2014='17,10', 2015='17,50', 2016='17,40', 2017='18,30', 2018='17,80'),\n",
              " Row(Pays='Lettonie', 2005='32,30', 2006='31,10', 2007='29,60', 2008='29,80', 2009='34,30', 2010='30,40', 2011='33,50', 2012='35,70', 2013='37,00', 2014='38,60', 2015='37,50', 2016='37,10', 2017='39,00', 2018='40,30'),\n",
              " Row(Pays='Lituanie', 2005='16,80', 2006='16,90', 2007='16,50', 2008='17,80', 2009='19,80', 2010='19,60', 2011='19,90', 2012='21,40', 2013='22,70', 2014='23,60', 2015='25,80', 2016='25,60', 2017='26,00', 2018='24,40'),\n",
              " Row(Pays='Luxembourg', 2005='1,40', 2006='1,50', 2007='2,70', 2008='2,80', 2009='2,90', 2010='2,90', 2011='2,90', 2012='3,10', 2013='3,50', 2014='4,50', 2015='5,10', 2016='5,40', 2017='6,30', 2018='9,10'),\n",
              " Row(Pays='Malte', 2005='0,10', 2006='0,10', 2007='0,20', 2008='0,20', 2009='0,20', 2010='1,00', 2011='1,90', 2012='2,90', 2013='3,80', 2014='4,70', 2015='5,10', 2016='6,20', 2017='7,30', 2018='8,00'),\n",
              " Row(Pays='Pays-Bas', 2005='2,50', 2006='2,80', 2007='3,30', 2008='3,60', 2009='4,30', 2010='3,90', 2011='4,50', 2012='4,70', 2013='4,70', 2014='5,40', 2015='5,70', 2016='5,80', 2017='6,50', 2018='7,40'),\n",
              " Row(Pays='Pologne', 2005='6,90', 2006='6,90', 2007='6,90', 2008='7,70', 2009='8,70', 2010='9,30', 2011='10,30', 2012='10,90', 2013='11,40', 2014='11,50', 2015='11,70', 2016='11,30', 2017='11,00', 2018='11,30'),\n",
              " Row(Pays='Portugal', 2005='19,50', 2006='20,80', 2007='21,90', 2008='22,90', 2009='24,40', 2010='24,20', 2011='24,60', 2012='24,60', 2013='25,70', 2014='29,50', 2015='30,50', 2016='30,90', 2017='30,60', 2018='30,30'),\n",
              " Row(Pays='R�publique tch�que', 2005='7,10', 2006='7,40', 2007='7,90', 2008='8,70', 2009='10,00', 2010='10,50', 2011='10,90', 2012='12,80', 2013='13,90', 2014='15,10', 2015='15,10', 2016='14,90', 2017='14,80', 2018='15,20'),\n",
              " Row(Pays='Roumanie', 2005='17,60', 2006='17,10', 2007='18,20', 2008='20,20', 2009='22,20', 2010='22,80', 2011='21,20', 2012='22,80', 2013='23,90', 2014='24,80', 2015='24,80', 2016='25,00', 2017='24,50', 2018='23,90'),\n",
              " Row(Pays='Royaume-Uni', 2005='1,10', 2006='1,30', 2007='1,60', 2008='2,70', 2009='3,30', 2010='3,80', 2011='4,30', 2012='4,40', 2013='5,50', 2014='6,70', 2015='8,30', 2016='9,00', 2017='9,70', 2018='11,00'),\n",
              " Row(Pays='Slovaquie', 2005='6,40', 2006='6,60', 2007='7,80', 2008='7,70', 2009='9,40', 2010='9,10', 2011='10,30', 2012='10,50', 2013='10,10', 2014='11,70', 2015='12,90', 2016='12,00', 2017='11,50', 2018='11,90'),\n",
              " Row(Pays='Slov�nie', 2005='16,00', 2006='15,60', 2007='15,60', 2008='15,00', 2009='20,10', 2010='20,40', 2011='20,30', 2012='20,80', 2013='22,40', 2014='21,50', 2015='21,90', 2016='21,30', 2017='21,10', 2018='21,10'),\n",
              " Row(Pays='Su�de', 2005='40,70', 2006='42,40', 2007='43,90', 2008='44,70', 2009='47,90', 2010='47,00', 2011='48,20', 2012='50,20', 2013='50,80', 2014='51,90', 2015='53,00', 2016='53,40', 2017='54,20', 2018='54,60')]"
            ]
          },
          "metadata": {},
          "execution_count": 283
        }
      ]
    },
    {
      "cell_type": "code",
      "source": [
        "# Transformer la DataFrame PySpark en DataFrame Pandas\n",
        "\n",
        "df.toPandas()"
      ],
      "metadata": {
        "colab": {
          "base_uri": "https://localhost:8080/",
          "height": 927
        },
        "id": "nbLCi_9hncSZ",
        "outputId": "b92d503a-f75a-433f-9c3b-0c609538b28f"
      },
      "execution_count": null,
      "outputs": [
        {
          "output_type": "execute_result",
          "data": {
            "text/plain": [
              "                  Pays   2005   2006   2007   2008   2009   2010      2011  \\\n",
              "0            Allemagne   7,20   8,50  10,10  10,10  10,90  11,70     12,50   \n",
              "1             Autriche  24,40  26,30  28,20  28,90  31,00  31,20     31,60   \n",
              "2             Belgique   2,30   2,60   3,10   3,60   4,70   5,60      6,30   \n",
              "3             Bulgarie   9,20   9,40   9,10  10,30  12,00  13,90     14,20   \n",
              "4               Chypre   3,10   3,30   4,00   5,10   5,90   6,20      6,30   \n",
              "5              Croatie  23,70  22,70  22,20  22,00  23,60  25,10     25,40   \n",
              "6             Danemark  16,00  16,30  17,70  18,50  20,00  21,90     23,40   \n",
              "7              Espagne   8,40   9,10   9,70  10,70  13,00  13,80     13,20   \n",
              "8              Estonie  17,40  16,00  17,00  18,60  22,90  24,60     25,30   \n",
              "9             Finlande  28,80  30,10  29,60  31,40  31,30  32,40     32,80   \n",
              "10              France   9,60   9,30  10,20  11,20  12,20  12,70  (1) 12,7   \n",
              "11               Gr�ce   7,30   7,50   8,20   8,20   8,70  10,10     11,20   \n",
              "12             Hongrie   6,90   7,40   8,60   8,60  11,70  12,70     14,00   \n",
              "13             Irlande   2,80   3,00   3,50   3,90   5,20   5,70      6,60   \n",
              "14              Italie   7,50   8,30   9,80  11,50  12,80  13,00     12,90   \n",
              "15            Lettonie  32,30  31,10  29,60  29,80  34,30  30,40     33,50   \n",
              "16            Lituanie  16,80  16,90  16,50  17,80  19,80  19,60     19,90   \n",
              "17          Luxembourg   1,40   1,50   2,70   2,80   2,90   2,90      2,90   \n",
              "18               Malte   0,10   0,10   0,20   0,20   0,20   1,00      1,90   \n",
              "19            Pays-Bas   2,50   2,80   3,30   3,60   4,30   3,90      4,50   \n",
              "20             Pologne   6,90   6,90   6,90   7,70   8,70   9,30     10,30   \n",
              "21            Portugal  19,50  20,80  21,90  22,90  24,40  24,20     24,60   \n",
              "22  R�publique tch�que   7,10   7,40   7,90   8,70  10,00  10,50     10,90   \n",
              "23            Roumanie  17,60  17,10  18,20  20,20  22,20  22,80     21,20   \n",
              "24         Royaume-Uni   1,10   1,30   1,60   2,70   3,30   3,80      4,30   \n",
              "25           Slovaquie   6,40   6,60   7,80   7,70   9,40   9,10     10,30   \n",
              "26            Slov�nie  16,00  15,60  15,60  15,00  20,10  20,40     20,30   \n",
              "27               Su�de  40,70  42,40  43,90  44,70  47,90  47,00     48,20   \n",
              "\n",
              "     2012   2013   2014   2015   2016   2017   2018  \n",
              "0   13,60  13,80  14,40  14,90  14,90  15,50  16,50  \n",
              "1   32,70  32,80  33,70  33,50  33,40  33,10  33,40  \n",
              "2    7,20   7,50   8,00   8,00   8,70   9,10   9,40  \n",
              "3   15,80  18,90  18,10  18,30  18,80  18,70  20,50  \n",
              "4    7,10   8,50   9,20   9,90   9,90  10,50  13,90  \n",
              "5   26,80  28,00  27,80  29,00  28,30  27,30  28,00  \n",
              "6   25,50  27,20  29,30  30,80  31,80  34,70  35,70  \n",
              "7   14,30  15,30  16,10  16,20  17,40  17,60  17,50  \n",
              "8   25,50  25,30  26,10  28,20  28,70  29,10  30,00  \n",
              "9   34,40  36,70  38,80  39,30  39,00  40,90  41,20  \n",
              "10  13,40  14,00  14,60  15,00  15,70  16,00  16,60  \n",
              "11  13,70  15,30  15,70  15,70  15,40  17,00  18,00  \n",
              "12  15,50  16,20  14,60  14,50  14,30  13,50  12,50  \n",
              "13   7,10   7,60   8,60   9,10   9,30  10,60  11,10  \n",
              "14  15,40  16,70  17,10  17,50  17,40  18,30  17,80  \n",
              "15  35,70  37,00  38,60  37,50  37,10  39,00  40,30  \n",
              "16  21,40  22,70  23,60  25,80  25,60  26,00  24,40  \n",
              "17   3,10   3,50   4,50   5,10   5,40   6,30   9,10  \n",
              "18   2,90   3,80   4,70   5,10   6,20   7,30   8,00  \n",
              "19   4,70   4,70   5,40   5,70   5,80   6,50   7,40  \n",
              "20  10,90  11,40  11,50  11,70  11,30  11,00  11,30  \n",
              "21  24,60  25,70  29,50  30,50  30,90  30,60  30,30  \n",
              "22  12,80  13,90  15,10  15,10  14,90  14,80  15,20  \n",
              "23  22,80  23,90  24,80  24,80  25,00  24,50  23,90  \n",
              "24   4,40   5,50   6,70   8,30   9,00   9,70  11,00  \n",
              "25  10,50  10,10  11,70  12,90  12,00  11,50  11,90  \n",
              "26  20,80  22,40  21,50  21,90  21,30  21,10  21,10  \n",
              "27  50,20  50,80  51,90  53,00  53,40  54,20  54,60  "
            ],
            "text/html": [
              "\n",
              "  <div id=\"df-cdad0ba4-4b6e-4de7-af11-67409278f123\">\n",
              "    <div class=\"colab-df-container\">\n",
              "      <div>\n",
              "<style scoped>\n",
              "    .dataframe tbody tr th:only-of-type {\n",
              "        vertical-align: middle;\n",
              "    }\n",
              "\n",
              "    .dataframe tbody tr th {\n",
              "        vertical-align: top;\n",
              "    }\n",
              "\n",
              "    .dataframe thead th {\n",
              "        text-align: right;\n",
              "    }\n",
              "</style>\n",
              "<table border=\"1\" class=\"dataframe\">\n",
              "  <thead>\n",
              "    <tr style=\"text-align: right;\">\n",
              "      <th></th>\n",
              "      <th>Pays</th>\n",
              "      <th>2005</th>\n",
              "      <th>2006</th>\n",
              "      <th>2007</th>\n",
              "      <th>2008</th>\n",
              "      <th>2009</th>\n",
              "      <th>2010</th>\n",
              "      <th>2011</th>\n",
              "      <th>2012</th>\n",
              "      <th>2013</th>\n",
              "      <th>2014</th>\n",
              "      <th>2015</th>\n",
              "      <th>2016</th>\n",
              "      <th>2017</th>\n",
              "      <th>2018</th>\n",
              "    </tr>\n",
              "  </thead>\n",
              "  <tbody>\n",
              "    <tr>\n",
              "      <th>0</th>\n",
              "      <td>Allemagne</td>\n",
              "      <td>7,20</td>\n",
              "      <td>8,50</td>\n",
              "      <td>10,10</td>\n",
              "      <td>10,10</td>\n",
              "      <td>10,90</td>\n",
              "      <td>11,70</td>\n",
              "      <td>12,50</td>\n",
              "      <td>13,60</td>\n",
              "      <td>13,80</td>\n",
              "      <td>14,40</td>\n",
              "      <td>14,90</td>\n",
              "      <td>14,90</td>\n",
              "      <td>15,50</td>\n",
              "      <td>16,50</td>\n",
              "    </tr>\n",
              "    <tr>\n",
              "      <th>1</th>\n",
              "      <td>Autriche</td>\n",
              "      <td>24,40</td>\n",
              "      <td>26,30</td>\n",
              "      <td>28,20</td>\n",
              "      <td>28,90</td>\n",
              "      <td>31,00</td>\n",
              "      <td>31,20</td>\n",
              "      <td>31,60</td>\n",
              "      <td>32,70</td>\n",
              "      <td>32,80</td>\n",
              "      <td>33,70</td>\n",
              "      <td>33,50</td>\n",
              "      <td>33,40</td>\n",
              "      <td>33,10</td>\n",
              "      <td>33,40</td>\n",
              "    </tr>\n",
              "    <tr>\n",
              "      <th>2</th>\n",
              "      <td>Belgique</td>\n",
              "      <td>2,30</td>\n",
              "      <td>2,60</td>\n",
              "      <td>3,10</td>\n",
              "      <td>3,60</td>\n",
              "      <td>4,70</td>\n",
              "      <td>5,60</td>\n",
              "      <td>6,30</td>\n",
              "      <td>7,20</td>\n",
              "      <td>7,50</td>\n",
              "      <td>8,00</td>\n",
              "      <td>8,00</td>\n",
              "      <td>8,70</td>\n",
              "      <td>9,10</td>\n",
              "      <td>9,40</td>\n",
              "    </tr>\n",
              "    <tr>\n",
              "      <th>3</th>\n",
              "      <td>Bulgarie</td>\n",
              "      <td>9,20</td>\n",
              "      <td>9,40</td>\n",
              "      <td>9,10</td>\n",
              "      <td>10,30</td>\n",
              "      <td>12,00</td>\n",
              "      <td>13,90</td>\n",
              "      <td>14,20</td>\n",
              "      <td>15,80</td>\n",
              "      <td>18,90</td>\n",
              "      <td>18,10</td>\n",
              "      <td>18,30</td>\n",
              "      <td>18,80</td>\n",
              "      <td>18,70</td>\n",
              "      <td>20,50</td>\n",
              "    </tr>\n",
              "    <tr>\n",
              "      <th>4</th>\n",
              "      <td>Chypre</td>\n",
              "      <td>3,10</td>\n",
              "      <td>3,30</td>\n",
              "      <td>4,00</td>\n",
              "      <td>5,10</td>\n",
              "      <td>5,90</td>\n",
              "      <td>6,20</td>\n",
              "      <td>6,30</td>\n",
              "      <td>7,10</td>\n",
              "      <td>8,50</td>\n",
              "      <td>9,20</td>\n",
              "      <td>9,90</td>\n",
              "      <td>9,90</td>\n",
              "      <td>10,50</td>\n",
              "      <td>13,90</td>\n",
              "    </tr>\n",
              "    <tr>\n",
              "      <th>5</th>\n",
              "      <td>Croatie</td>\n",
              "      <td>23,70</td>\n",
              "      <td>22,70</td>\n",
              "      <td>22,20</td>\n",
              "      <td>22,00</td>\n",
              "      <td>23,60</td>\n",
              "      <td>25,10</td>\n",
              "      <td>25,40</td>\n",
              "      <td>26,80</td>\n",
              "      <td>28,00</td>\n",
              "      <td>27,80</td>\n",
              "      <td>29,00</td>\n",
              "      <td>28,30</td>\n",
              "      <td>27,30</td>\n",
              "      <td>28,00</td>\n",
              "    </tr>\n",
              "    <tr>\n",
              "      <th>6</th>\n",
              "      <td>Danemark</td>\n",
              "      <td>16,00</td>\n",
              "      <td>16,30</td>\n",
              "      <td>17,70</td>\n",
              "      <td>18,50</td>\n",
              "      <td>20,00</td>\n",
              "      <td>21,90</td>\n",
              "      <td>23,40</td>\n",
              "      <td>25,50</td>\n",
              "      <td>27,20</td>\n",
              "      <td>29,30</td>\n",
              "      <td>30,80</td>\n",
              "      <td>31,80</td>\n",
              "      <td>34,70</td>\n",
              "      <td>35,70</td>\n",
              "    </tr>\n",
              "    <tr>\n",
              "      <th>7</th>\n",
              "      <td>Espagne</td>\n",
              "      <td>8,40</td>\n",
              "      <td>9,10</td>\n",
              "      <td>9,70</td>\n",
              "      <td>10,70</td>\n",
              "      <td>13,00</td>\n",
              "      <td>13,80</td>\n",
              "      <td>13,20</td>\n",
              "      <td>14,30</td>\n",
              "      <td>15,30</td>\n",
              "      <td>16,10</td>\n",
              "      <td>16,20</td>\n",
              "      <td>17,40</td>\n",
              "      <td>17,60</td>\n",
              "      <td>17,50</td>\n",
              "    </tr>\n",
              "    <tr>\n",
              "      <th>8</th>\n",
              "      <td>Estonie</td>\n",
              "      <td>17,40</td>\n",
              "      <td>16,00</td>\n",
              "      <td>17,00</td>\n",
              "      <td>18,60</td>\n",
              "      <td>22,90</td>\n",
              "      <td>24,60</td>\n",
              "      <td>25,30</td>\n",
              "      <td>25,50</td>\n",
              "      <td>25,30</td>\n",
              "      <td>26,10</td>\n",
              "      <td>28,20</td>\n",
              "      <td>28,70</td>\n",
              "      <td>29,10</td>\n",
              "      <td>30,00</td>\n",
              "    </tr>\n",
              "    <tr>\n",
              "      <th>9</th>\n",
              "      <td>Finlande</td>\n",
              "      <td>28,80</td>\n",
              "      <td>30,10</td>\n",
              "      <td>29,60</td>\n",
              "      <td>31,40</td>\n",
              "      <td>31,30</td>\n",
              "      <td>32,40</td>\n",
              "      <td>32,80</td>\n",
              "      <td>34,40</td>\n",
              "      <td>36,70</td>\n",
              "      <td>38,80</td>\n",
              "      <td>39,30</td>\n",
              "      <td>39,00</td>\n",
              "      <td>40,90</td>\n",
              "      <td>41,20</td>\n",
              "    </tr>\n",
              "    <tr>\n",
              "      <th>10</th>\n",
              "      <td>France</td>\n",
              "      <td>9,60</td>\n",
              "      <td>9,30</td>\n",
              "      <td>10,20</td>\n",
              "      <td>11,20</td>\n",
              "      <td>12,20</td>\n",
              "      <td>12,70</td>\n",
              "      <td>(1) 12,7</td>\n",
              "      <td>13,40</td>\n",
              "      <td>14,00</td>\n",
              "      <td>14,60</td>\n",
              "      <td>15,00</td>\n",
              "      <td>15,70</td>\n",
              "      <td>16,00</td>\n",
              "      <td>16,60</td>\n",
              "    </tr>\n",
              "    <tr>\n",
              "      <th>11</th>\n",
              "      <td>Gr�ce</td>\n",
              "      <td>7,30</td>\n",
              "      <td>7,50</td>\n",
              "      <td>8,20</td>\n",
              "      <td>8,20</td>\n",
              "      <td>8,70</td>\n",
              "      <td>10,10</td>\n",
              "      <td>11,20</td>\n",
              "      <td>13,70</td>\n",
              "      <td>15,30</td>\n",
              "      <td>15,70</td>\n",
              "      <td>15,70</td>\n",
              "      <td>15,40</td>\n",
              "      <td>17,00</td>\n",
              "      <td>18,00</td>\n",
              "    </tr>\n",
              "    <tr>\n",
              "      <th>12</th>\n",
              "      <td>Hongrie</td>\n",
              "      <td>6,90</td>\n",
              "      <td>7,40</td>\n",
              "      <td>8,60</td>\n",
              "      <td>8,60</td>\n",
              "      <td>11,70</td>\n",
              "      <td>12,70</td>\n",
              "      <td>14,00</td>\n",
              "      <td>15,50</td>\n",
              "      <td>16,20</td>\n",
              "      <td>14,60</td>\n",
              "      <td>14,50</td>\n",
              "      <td>14,30</td>\n",
              "      <td>13,50</td>\n",
              "      <td>12,50</td>\n",
              "    </tr>\n",
              "    <tr>\n",
              "      <th>13</th>\n",
              "      <td>Irlande</td>\n",
              "      <td>2,80</td>\n",
              "      <td>3,00</td>\n",
              "      <td>3,50</td>\n",
              "      <td>3,90</td>\n",
              "      <td>5,20</td>\n",
              "      <td>5,70</td>\n",
              "      <td>6,60</td>\n",
              "      <td>7,10</td>\n",
              "      <td>7,60</td>\n",
              "      <td>8,60</td>\n",
              "      <td>9,10</td>\n",
              "      <td>9,30</td>\n",
              "      <td>10,60</td>\n",
              "      <td>11,10</td>\n",
              "    </tr>\n",
              "    <tr>\n",
              "      <th>14</th>\n",
              "      <td>Italie</td>\n",
              "      <td>7,50</td>\n",
              "      <td>8,30</td>\n",
              "      <td>9,80</td>\n",
              "      <td>11,50</td>\n",
              "      <td>12,80</td>\n",
              "      <td>13,00</td>\n",
              "      <td>12,90</td>\n",
              "      <td>15,40</td>\n",
              "      <td>16,70</td>\n",
              "      <td>17,10</td>\n",
              "      <td>17,50</td>\n",
              "      <td>17,40</td>\n",
              "      <td>18,30</td>\n",
              "      <td>17,80</td>\n",
              "    </tr>\n",
              "    <tr>\n",
              "      <th>15</th>\n",
              "      <td>Lettonie</td>\n",
              "      <td>32,30</td>\n",
              "      <td>31,10</td>\n",
              "      <td>29,60</td>\n",
              "      <td>29,80</td>\n",
              "      <td>34,30</td>\n",
              "      <td>30,40</td>\n",
              "      <td>33,50</td>\n",
              "      <td>35,70</td>\n",
              "      <td>37,00</td>\n",
              "      <td>38,60</td>\n",
              "      <td>37,50</td>\n",
              "      <td>37,10</td>\n",
              "      <td>39,00</td>\n",
              "      <td>40,30</td>\n",
              "    </tr>\n",
              "    <tr>\n",
              "      <th>16</th>\n",
              "      <td>Lituanie</td>\n",
              "      <td>16,80</td>\n",
              "      <td>16,90</td>\n",
              "      <td>16,50</td>\n",
              "      <td>17,80</td>\n",
              "      <td>19,80</td>\n",
              "      <td>19,60</td>\n",
              "      <td>19,90</td>\n",
              "      <td>21,40</td>\n",
              "      <td>22,70</td>\n",
              "      <td>23,60</td>\n",
              "      <td>25,80</td>\n",
              "      <td>25,60</td>\n",
              "      <td>26,00</td>\n",
              "      <td>24,40</td>\n",
              "    </tr>\n",
              "    <tr>\n",
              "      <th>17</th>\n",
              "      <td>Luxembourg</td>\n",
              "      <td>1,40</td>\n",
              "      <td>1,50</td>\n",
              "      <td>2,70</td>\n",
              "      <td>2,80</td>\n",
              "      <td>2,90</td>\n",
              "      <td>2,90</td>\n",
              "      <td>2,90</td>\n",
              "      <td>3,10</td>\n",
              "      <td>3,50</td>\n",
              "      <td>4,50</td>\n",
              "      <td>5,10</td>\n",
              "      <td>5,40</td>\n",
              "      <td>6,30</td>\n",
              "      <td>9,10</td>\n",
              "    </tr>\n",
              "    <tr>\n",
              "      <th>18</th>\n",
              "      <td>Malte</td>\n",
              "      <td>0,10</td>\n",
              "      <td>0,10</td>\n",
              "      <td>0,20</td>\n",
              "      <td>0,20</td>\n",
              "      <td>0,20</td>\n",
              "      <td>1,00</td>\n",
              "      <td>1,90</td>\n",
              "      <td>2,90</td>\n",
              "      <td>3,80</td>\n",
              "      <td>4,70</td>\n",
              "      <td>5,10</td>\n",
              "      <td>6,20</td>\n",
              "      <td>7,30</td>\n",
              "      <td>8,00</td>\n",
              "    </tr>\n",
              "    <tr>\n",
              "      <th>19</th>\n",
              "      <td>Pays-Bas</td>\n",
              "      <td>2,50</td>\n",
              "      <td>2,80</td>\n",
              "      <td>3,30</td>\n",
              "      <td>3,60</td>\n",
              "      <td>4,30</td>\n",
              "      <td>3,90</td>\n",
              "      <td>4,50</td>\n",
              "      <td>4,70</td>\n",
              "      <td>4,70</td>\n",
              "      <td>5,40</td>\n",
              "      <td>5,70</td>\n",
              "      <td>5,80</td>\n",
              "      <td>6,50</td>\n",
              "      <td>7,40</td>\n",
              "    </tr>\n",
              "    <tr>\n",
              "      <th>20</th>\n",
              "      <td>Pologne</td>\n",
              "      <td>6,90</td>\n",
              "      <td>6,90</td>\n",
              "      <td>6,90</td>\n",
              "      <td>7,70</td>\n",
              "      <td>8,70</td>\n",
              "      <td>9,30</td>\n",
              "      <td>10,30</td>\n",
              "      <td>10,90</td>\n",
              "      <td>11,40</td>\n",
              "      <td>11,50</td>\n",
              "      <td>11,70</td>\n",
              "      <td>11,30</td>\n",
              "      <td>11,00</td>\n",
              "      <td>11,30</td>\n",
              "    </tr>\n",
              "    <tr>\n",
              "      <th>21</th>\n",
              "      <td>Portugal</td>\n",
              "      <td>19,50</td>\n",
              "      <td>20,80</td>\n",
              "      <td>21,90</td>\n",
              "      <td>22,90</td>\n",
              "      <td>24,40</td>\n",
              "      <td>24,20</td>\n",
              "      <td>24,60</td>\n",
              "      <td>24,60</td>\n",
              "      <td>25,70</td>\n",
              "      <td>29,50</td>\n",
              "      <td>30,50</td>\n",
              "      <td>30,90</td>\n",
              "      <td>30,60</td>\n",
              "      <td>30,30</td>\n",
              "    </tr>\n",
              "    <tr>\n",
              "      <th>22</th>\n",
              "      <td>R�publique tch�que</td>\n",
              "      <td>7,10</td>\n",
              "      <td>7,40</td>\n",
              "      <td>7,90</td>\n",
              "      <td>8,70</td>\n",
              "      <td>10,00</td>\n",
              "      <td>10,50</td>\n",
              "      <td>10,90</td>\n",
              "      <td>12,80</td>\n",
              "      <td>13,90</td>\n",
              "      <td>15,10</td>\n",
              "      <td>15,10</td>\n",
              "      <td>14,90</td>\n",
              "      <td>14,80</td>\n",
              "      <td>15,20</td>\n",
              "    </tr>\n",
              "    <tr>\n",
              "      <th>23</th>\n",
              "      <td>Roumanie</td>\n",
              "      <td>17,60</td>\n",
              "      <td>17,10</td>\n",
              "      <td>18,20</td>\n",
              "      <td>20,20</td>\n",
              "      <td>22,20</td>\n",
              "      <td>22,80</td>\n",
              "      <td>21,20</td>\n",
              "      <td>22,80</td>\n",
              "      <td>23,90</td>\n",
              "      <td>24,80</td>\n",
              "      <td>24,80</td>\n",
              "      <td>25,00</td>\n",
              "      <td>24,50</td>\n",
              "      <td>23,90</td>\n",
              "    </tr>\n",
              "    <tr>\n",
              "      <th>24</th>\n",
              "      <td>Royaume-Uni</td>\n",
              "      <td>1,10</td>\n",
              "      <td>1,30</td>\n",
              "      <td>1,60</td>\n",
              "      <td>2,70</td>\n",
              "      <td>3,30</td>\n",
              "      <td>3,80</td>\n",
              "      <td>4,30</td>\n",
              "      <td>4,40</td>\n",
              "      <td>5,50</td>\n",
              "      <td>6,70</td>\n",
              "      <td>8,30</td>\n",
              "      <td>9,00</td>\n",
              "      <td>9,70</td>\n",
              "      <td>11,00</td>\n",
              "    </tr>\n",
              "    <tr>\n",
              "      <th>25</th>\n",
              "      <td>Slovaquie</td>\n",
              "      <td>6,40</td>\n",
              "      <td>6,60</td>\n",
              "      <td>7,80</td>\n",
              "      <td>7,70</td>\n",
              "      <td>9,40</td>\n",
              "      <td>9,10</td>\n",
              "      <td>10,30</td>\n",
              "      <td>10,50</td>\n",
              "      <td>10,10</td>\n",
              "      <td>11,70</td>\n",
              "      <td>12,90</td>\n",
              "      <td>12,00</td>\n",
              "      <td>11,50</td>\n",
              "      <td>11,90</td>\n",
              "    </tr>\n",
              "    <tr>\n",
              "      <th>26</th>\n",
              "      <td>Slov�nie</td>\n",
              "      <td>16,00</td>\n",
              "      <td>15,60</td>\n",
              "      <td>15,60</td>\n",
              "      <td>15,00</td>\n",
              "      <td>20,10</td>\n",
              "      <td>20,40</td>\n",
              "      <td>20,30</td>\n",
              "      <td>20,80</td>\n",
              "      <td>22,40</td>\n",
              "      <td>21,50</td>\n",
              "      <td>21,90</td>\n",
              "      <td>21,30</td>\n",
              "      <td>21,10</td>\n",
              "      <td>21,10</td>\n",
              "    </tr>\n",
              "    <tr>\n",
              "      <th>27</th>\n",
              "      <td>Su�de</td>\n",
              "      <td>40,70</td>\n",
              "      <td>42,40</td>\n",
              "      <td>43,90</td>\n",
              "      <td>44,70</td>\n",
              "      <td>47,90</td>\n",
              "      <td>47,00</td>\n",
              "      <td>48,20</td>\n",
              "      <td>50,20</td>\n",
              "      <td>50,80</td>\n",
              "      <td>51,90</td>\n",
              "      <td>53,00</td>\n",
              "      <td>53,40</td>\n",
              "      <td>54,20</td>\n",
              "      <td>54,60</td>\n",
              "    </tr>\n",
              "  </tbody>\n",
              "</table>\n",
              "</div>\n",
              "      <button class=\"colab-df-convert\" onclick=\"convertToInteractive('df-cdad0ba4-4b6e-4de7-af11-67409278f123')\"\n",
              "              title=\"Convert this dataframe to an interactive table.\"\n",
              "              style=\"display:none;\">\n",
              "        \n",
              "  <svg xmlns=\"http://www.w3.org/2000/svg\" height=\"24px\"viewBox=\"0 0 24 24\"\n",
              "       width=\"24px\">\n",
              "    <path d=\"M0 0h24v24H0V0z\" fill=\"none\"/>\n",
              "    <path d=\"M18.56 5.44l.94 2.06.94-2.06 2.06-.94-2.06-.94-.94-2.06-.94 2.06-2.06.94zm-11 1L8.5 8.5l.94-2.06 2.06-.94-2.06-.94L8.5 2.5l-.94 2.06-2.06.94zm10 10l.94 2.06.94-2.06 2.06-.94-2.06-.94-.94-2.06-.94 2.06-2.06.94z\"/><path d=\"M17.41 7.96l-1.37-1.37c-.4-.4-.92-.59-1.43-.59-.52 0-1.04.2-1.43.59L10.3 9.45l-7.72 7.72c-.78.78-.78 2.05 0 2.83L4 21.41c.39.39.9.59 1.41.59.51 0 1.02-.2 1.41-.59l7.78-7.78 2.81-2.81c.8-.78.8-2.07 0-2.86zM5.41 20L4 18.59l7.72-7.72 1.47 1.35L5.41 20z\"/>\n",
              "  </svg>\n",
              "      </button>\n",
              "      \n",
              "  <style>\n",
              "    .colab-df-container {\n",
              "      display:flex;\n",
              "      flex-wrap:wrap;\n",
              "      gap: 12px;\n",
              "    }\n",
              "\n",
              "    .colab-df-convert {\n",
              "      background-color: #E8F0FE;\n",
              "      border: none;\n",
              "      border-radius: 50%;\n",
              "      cursor: pointer;\n",
              "      display: none;\n",
              "      fill: #1967D2;\n",
              "      height: 32px;\n",
              "      padding: 0 0 0 0;\n",
              "      width: 32px;\n",
              "    }\n",
              "\n",
              "    .colab-df-convert:hover {\n",
              "      background-color: #E2EBFA;\n",
              "      box-shadow: 0px 1px 2px rgba(60, 64, 67, 0.3), 0px 1px 3px 1px rgba(60, 64, 67, 0.15);\n",
              "      fill: #174EA6;\n",
              "    }\n",
              "\n",
              "    [theme=dark] .colab-df-convert {\n",
              "      background-color: #3B4455;\n",
              "      fill: #D2E3FC;\n",
              "    }\n",
              "\n",
              "    [theme=dark] .colab-df-convert:hover {\n",
              "      background-color: #434B5C;\n",
              "      box-shadow: 0px 1px 3px 1px rgba(0, 0, 0, 0.15);\n",
              "      filter: drop-shadow(0px 1px 2px rgba(0, 0, 0, 0.3));\n",
              "      fill: #FFFFFF;\n",
              "    }\n",
              "  </style>\n",
              "\n",
              "      <script>\n",
              "        const buttonEl =\n",
              "          document.querySelector('#df-cdad0ba4-4b6e-4de7-af11-67409278f123 button.colab-df-convert');\n",
              "        buttonEl.style.display =\n",
              "          google.colab.kernel.accessAllowed ? 'block' : 'none';\n",
              "\n",
              "        async function convertToInteractive(key) {\n",
              "          const element = document.querySelector('#df-cdad0ba4-4b6e-4de7-af11-67409278f123');\n",
              "          const dataTable =\n",
              "            await google.colab.kernel.invokeFunction('convertToInteractive',\n",
              "                                                     [key], {});\n",
              "          if (!dataTable) return;\n",
              "\n",
              "          const docLinkHtml = 'Like what you see? Visit the ' +\n",
              "            '<a target=\"_blank\" href=https://colab.research.google.com/notebooks/data_table.ipynb>data table notebook</a>'\n",
              "            + ' to learn more about interactive tables.';\n",
              "          element.innerHTML = '';\n",
              "          dataTable['output_type'] = 'display_data';\n",
              "          await google.colab.output.renderOutput(dataTable, element);\n",
              "          const docLink = document.createElement('div');\n",
              "          docLink.innerHTML = docLinkHtml;\n",
              "          element.appendChild(docLink);\n",
              "        }\n",
              "      </script>\n",
              "    </div>\n",
              "  </div>\n",
              "  "
            ]
          },
          "metadata": {},
          "execution_count": 284
        }
      ]
    },
    {
      "cell_type": "code",
      "source": [
        "# Manipulation des colonnes du fichier data\n",
        "\n",
        "df.show(5)"
      ],
      "metadata": {
        "colab": {
          "base_uri": "https://localhost:8080/"
        },
        "id": "haH3EljvqpM3",
        "outputId": "c4184b99-2cea-4cbc-9b4d-26bb4e224b2f"
      },
      "execution_count": null,
      "outputs": [
        {
          "output_type": "stream",
          "name": "stdout",
          "text": [
            "+---------+-----+-----+-----+-----+-----+-----+-----+-----+-----+-----+-----+-----+-----+-----+\n",
            "|     Pays| 2005| 2006| 2007| 2008| 2009| 2010| 2011| 2012| 2013| 2014| 2015| 2016| 2017| 2018|\n",
            "+---------+-----+-----+-----+-----+-----+-----+-----+-----+-----+-----+-----+-----+-----+-----+\n",
            "|Allemagne| 7,20| 8,50|10,10|10,10|10,90|11,70|12,50|13,60|13,80|14,40|14,90|14,90|15,50|16,50|\n",
            "| Autriche|24,40|26,30|28,20|28,90|31,00|31,20|31,60|32,70|32,80|33,70|33,50|33,40|33,10|33,40|\n",
            "| Belgique| 2,30| 2,60| 3,10| 3,60| 4,70| 5,60| 6,30| 7,20| 7,50| 8,00| 8,00| 8,70| 9,10| 9,40|\n",
            "| Bulgarie| 9,20| 9,40| 9,10|10,30|12,00|13,90|14,20|15,80|18,90|18,10|18,30|18,80|18,70|20,50|\n",
            "|   Chypre| 3,10| 3,30| 4,00| 5,10| 5,90| 6,20| 6,30| 7,10| 8,50| 9,20| 9,90| 9,90|10,50|13,90|\n",
            "+---------+-----+-----+-----+-----+-----+-----+-----+-----+-----+-----+-----+-----+-----+-----+\n",
            "only showing top 5 rows\n",
            "\n"
          ]
        }
      ]
    },
    {
      "cell_type": "code",
      "source": [
        "df.select(\"2015\").show(3)"
      ],
      "metadata": {
        "colab": {
          "base_uri": "https://localhost:8080/"
        },
        "id": "oobRBIx2q-gE",
        "outputId": "50841b3b-e80a-4f86-afd0-4f7cf98d6922"
      },
      "execution_count": null,
      "outputs": [
        {
          "output_type": "stream",
          "name": "stdout",
          "text": [
            "+-----+\n",
            "| 2015|\n",
            "+-----+\n",
            "|14,90|\n",
            "|33,50|\n",
            "| 8,00|\n",
            "+-----+\n",
            "only showing top 3 rows\n",
            "\n"
          ]
        }
      ]
    },
    {
      "cell_type": "code",
      "source": [
        "df.select(\"2015\",\"2016\",\"2017\").show(3)"
      ],
      "metadata": {
        "colab": {
          "base_uri": "https://localhost:8080/"
        },
        "id": "-KlS6ZTYrIfF",
        "outputId": "6a462e30-0258-4708-c4f2-4747e17bdf60"
      },
      "execution_count": null,
      "outputs": [
        {
          "output_type": "stream",
          "name": "stdout",
          "text": [
            "+-----+-----+-----+\n",
            "| 2015| 2016| 2017|\n",
            "+-----+-----+-----+\n",
            "|14,90|14,90|15,50|\n",
            "|33,50|33,40|33,10|\n",
            "| 8,00| 8,70| 9,10|\n",
            "+-----+-----+-----+\n",
            "only showing top 3 rows\n",
            "\n"
          ]
        }
      ]
    },
    {
      "cell_type": "code",
      "source": [
        "# rajouter une colonne\n",
        "\n",
        "from pyspark.sql.functions import lit\n",
        "\n",
        "df_with_2020 = df.withColumn(\"2025\", lit(50))\n",
        "df_with_2020.show(5)"
      ],
      "metadata": {
        "colab": {
          "base_uri": "https://localhost:8080/"
        },
        "id": "tR26rJTYrh2p",
        "outputId": "23f219cc-0b6d-4d29-e574-b05628190078"
      },
      "execution_count": null,
      "outputs": [
        {
          "output_type": "stream",
          "name": "stdout",
          "text": [
            "+---------+-----+-----+-----+-----+-----+-----+-----+-----+-----+-----+-----+-----+-----+-----+----+\n",
            "|     Pays| 2005| 2006| 2007| 2008| 2009| 2010| 2011| 2012| 2013| 2014| 2015| 2016| 2017| 2018|2025|\n",
            "+---------+-----+-----+-----+-----+-----+-----+-----+-----+-----+-----+-----+-----+-----+-----+----+\n",
            "|Allemagne| 7,20| 8,50|10,10|10,10|10,90|11,70|12,50|13,60|13,80|14,40|14,90|14,90|15,50|16,50|  50|\n",
            "| Autriche|24,40|26,30|28,20|28,90|31,00|31,20|31,60|32,70|32,80|33,70|33,50|33,40|33,10|33,40|  50|\n",
            "| Belgique| 2,30| 2,60| 3,10| 3,60| 4,70| 5,60| 6,30| 7,20| 7,50| 8,00| 8,00| 8,70| 9,10| 9,40|  50|\n",
            "| Bulgarie| 9,20| 9,40| 9,10|10,30|12,00|13,90|14,20|15,80|18,90|18,10|18,30|18,80|18,70|20,50|  50|\n",
            "|   Chypre| 3,10| 3,30| 4,00| 5,10| 5,90| 6,20| 6,30| 7,10| 8,50| 9,20| 9,90| 9,90|10,50|13,90|  50|\n",
            "+---------+-----+-----+-----+-----+-----+-----+-----+-----+-----+-----+-----+-----+-----+-----+----+\n",
            "only showing top 5 rows\n",
            "\n"
          ]
        }
      ]
    },
    {
      "cell_type": "code",
      "source": [
        "# supprimer une colonne\n",
        "\n",
        "df_sans_2025 = df.drop(\"2025\")\n",
        "df_sans_2025.show(6)"
      ],
      "metadata": {
        "colab": {
          "base_uri": "https://localhost:8080/"
        },
        "id": "PsVJmfWdsQ4x",
        "outputId": "4ca8bcf6-74bc-46eb-d060-eef87e2cc78b"
      },
      "execution_count": null,
      "outputs": [
        {
          "output_type": "stream",
          "name": "stdout",
          "text": [
            "+---------+-----+-----+-----+-----+-----+-----+-----+-----+-----+-----+-----+-----+-----+-----+\n",
            "|     Pays| 2005| 2006| 2007| 2008| 2009| 2010| 2011| 2012| 2013| 2014| 2015| 2016| 2017| 2018|\n",
            "+---------+-----+-----+-----+-----+-----+-----+-----+-----+-----+-----+-----+-----+-----+-----+\n",
            "|Allemagne| 7,20| 8,50|10,10|10,10|10,90|11,70|12,50|13,60|13,80|14,40|14,90|14,90|15,50|16,50|\n",
            "| Autriche|24,40|26,30|28,20|28,90|31,00|31,20|31,60|32,70|32,80|33,70|33,50|33,40|33,10|33,40|\n",
            "| Belgique| 2,30| 2,60| 3,10| 3,60| 4,70| 5,60| 6,30| 7,20| 7,50| 8,00| 8,00| 8,70| 9,10| 9,40|\n",
            "| Bulgarie| 9,20| 9,40| 9,10|10,30|12,00|13,90|14,20|15,80|18,90|18,10|18,30|18,80|18,70|20,50|\n",
            "|   Chypre| 3,10| 3,30| 4,00| 5,10| 5,90| 6,20| 6,30| 7,10| 8,50| 9,20| 9,90| 9,90|10,50|13,90|\n",
            "|  Croatie|23,70|22,70|22,20|22,00|23,60|25,10|25,40|26,80|28,00|27,80|29,00|28,30|27,30|28,00|\n",
            "+---------+-----+-----+-----+-----+-----+-----+-----+-----+-----+-----+-----+-----+-----+-----+\n",
            "only showing top 6 rows\n",
            "\n"
          ]
        }
      ]
    },
    {
      "cell_type": "code",
      "source": [
        "# maitriser le travail avec des lignes\n",
        "\n",
        "import seaborn as sns \n",
        "\n",
        "# jeu de données tips\n",
        "\n",
        "pourboire = sns.load_dataset(\"tips\")\n",
        "pourboire.head()"
      ],
      "metadata": {
        "colab": {
          "base_uri": "https://localhost:8080/",
          "height": 206
        },
        "id": "3eKF0pUbufsA",
        "outputId": "44741eaf-0f35-45b2-db82-ea182247f28c"
      },
      "execution_count": null,
      "outputs": [
        {
          "output_type": "execute_result",
          "data": {
            "text/plain": [
              "   total_bill   tip     sex smoker  day    time  size\n",
              "0       16.99  1.01  Female     No  Sun  Dinner     2\n",
              "1       10.34  1.66    Male     No  Sun  Dinner     3\n",
              "2       21.01  3.50    Male     No  Sun  Dinner     3\n",
              "3       23.68  3.31    Male     No  Sun  Dinner     2\n",
              "4       24.59  3.61  Female     No  Sun  Dinner     4"
            ],
            "text/html": [
              "\n",
              "  <div id=\"df-118f6a75-5b71-4d52-a114-dda8eef72ca1\">\n",
              "    <div class=\"colab-df-container\">\n",
              "      <div>\n",
              "<style scoped>\n",
              "    .dataframe tbody tr th:only-of-type {\n",
              "        vertical-align: middle;\n",
              "    }\n",
              "\n",
              "    .dataframe tbody tr th {\n",
              "        vertical-align: top;\n",
              "    }\n",
              "\n",
              "    .dataframe thead th {\n",
              "        text-align: right;\n",
              "    }\n",
              "</style>\n",
              "<table border=\"1\" class=\"dataframe\">\n",
              "  <thead>\n",
              "    <tr style=\"text-align: right;\">\n",
              "      <th></th>\n",
              "      <th>total_bill</th>\n",
              "      <th>tip</th>\n",
              "      <th>sex</th>\n",
              "      <th>smoker</th>\n",
              "      <th>day</th>\n",
              "      <th>time</th>\n",
              "      <th>size</th>\n",
              "    </tr>\n",
              "  </thead>\n",
              "  <tbody>\n",
              "    <tr>\n",
              "      <th>0</th>\n",
              "      <td>16.99</td>\n",
              "      <td>1.01</td>\n",
              "      <td>Female</td>\n",
              "      <td>No</td>\n",
              "      <td>Sun</td>\n",
              "      <td>Dinner</td>\n",
              "      <td>2</td>\n",
              "    </tr>\n",
              "    <tr>\n",
              "      <th>1</th>\n",
              "      <td>10.34</td>\n",
              "      <td>1.66</td>\n",
              "      <td>Male</td>\n",
              "      <td>No</td>\n",
              "      <td>Sun</td>\n",
              "      <td>Dinner</td>\n",
              "      <td>3</td>\n",
              "    </tr>\n",
              "    <tr>\n",
              "      <th>2</th>\n",
              "      <td>21.01</td>\n",
              "      <td>3.50</td>\n",
              "      <td>Male</td>\n",
              "      <td>No</td>\n",
              "      <td>Sun</td>\n",
              "      <td>Dinner</td>\n",
              "      <td>3</td>\n",
              "    </tr>\n",
              "    <tr>\n",
              "      <th>3</th>\n",
              "      <td>23.68</td>\n",
              "      <td>3.31</td>\n",
              "      <td>Male</td>\n",
              "      <td>No</td>\n",
              "      <td>Sun</td>\n",
              "      <td>Dinner</td>\n",
              "      <td>2</td>\n",
              "    </tr>\n",
              "    <tr>\n",
              "      <th>4</th>\n",
              "      <td>24.59</td>\n",
              "      <td>3.61</td>\n",
              "      <td>Female</td>\n",
              "      <td>No</td>\n",
              "      <td>Sun</td>\n",
              "      <td>Dinner</td>\n",
              "      <td>4</td>\n",
              "    </tr>\n",
              "  </tbody>\n",
              "</table>\n",
              "</div>\n",
              "      <button class=\"colab-df-convert\" onclick=\"convertToInteractive('df-118f6a75-5b71-4d52-a114-dda8eef72ca1')\"\n",
              "              title=\"Convert this dataframe to an interactive table.\"\n",
              "              style=\"display:none;\">\n",
              "        \n",
              "  <svg xmlns=\"http://www.w3.org/2000/svg\" height=\"24px\"viewBox=\"0 0 24 24\"\n",
              "       width=\"24px\">\n",
              "    <path d=\"M0 0h24v24H0V0z\" fill=\"none\"/>\n",
              "    <path d=\"M18.56 5.44l.94 2.06.94-2.06 2.06-.94-2.06-.94-.94-2.06-.94 2.06-2.06.94zm-11 1L8.5 8.5l.94-2.06 2.06-.94-2.06-.94L8.5 2.5l-.94 2.06-2.06.94zm10 10l.94 2.06.94-2.06 2.06-.94-2.06-.94-.94-2.06-.94 2.06-2.06.94z\"/><path d=\"M17.41 7.96l-1.37-1.37c-.4-.4-.92-.59-1.43-.59-.52 0-1.04.2-1.43.59L10.3 9.45l-7.72 7.72c-.78.78-.78 2.05 0 2.83L4 21.41c.39.39.9.59 1.41.59.51 0 1.02-.2 1.41-.59l7.78-7.78 2.81-2.81c.8-.78.8-2.07 0-2.86zM5.41 20L4 18.59l7.72-7.72 1.47 1.35L5.41 20z\"/>\n",
              "  </svg>\n",
              "      </button>\n",
              "      \n",
              "  <style>\n",
              "    .colab-df-container {\n",
              "      display:flex;\n",
              "      flex-wrap:wrap;\n",
              "      gap: 12px;\n",
              "    }\n",
              "\n",
              "    .colab-df-convert {\n",
              "      background-color: #E8F0FE;\n",
              "      border: none;\n",
              "      border-radius: 50%;\n",
              "      cursor: pointer;\n",
              "      display: none;\n",
              "      fill: #1967D2;\n",
              "      height: 32px;\n",
              "      padding: 0 0 0 0;\n",
              "      width: 32px;\n",
              "    }\n",
              "\n",
              "    .colab-df-convert:hover {\n",
              "      background-color: #E2EBFA;\n",
              "      box-shadow: 0px 1px 2px rgba(60, 64, 67, 0.3), 0px 1px 3px 1px rgba(60, 64, 67, 0.15);\n",
              "      fill: #174EA6;\n",
              "    }\n",
              "\n",
              "    [theme=dark] .colab-df-convert {\n",
              "      background-color: #3B4455;\n",
              "      fill: #D2E3FC;\n",
              "    }\n",
              "\n",
              "    [theme=dark] .colab-df-convert:hover {\n",
              "      background-color: #434B5C;\n",
              "      box-shadow: 0px 1px 3px 1px rgba(0, 0, 0, 0.15);\n",
              "      filter: drop-shadow(0px 1px 2px rgba(0, 0, 0, 0.3));\n",
              "      fill: #FFFFFF;\n",
              "    }\n",
              "  </style>\n",
              "\n",
              "      <script>\n",
              "        const buttonEl =\n",
              "          document.querySelector('#df-118f6a75-5b71-4d52-a114-dda8eef72ca1 button.colab-df-convert');\n",
              "        buttonEl.style.display =\n",
              "          google.colab.kernel.accessAllowed ? 'block' : 'none';\n",
              "\n",
              "        async function convertToInteractive(key) {\n",
              "          const element = document.querySelector('#df-118f6a75-5b71-4d52-a114-dda8eef72ca1');\n",
              "          const dataTable =\n",
              "            await google.colab.kernel.invokeFunction('convertToInteractive',\n",
              "                                                     [key], {});\n",
              "          if (!dataTable) return;\n",
              "\n",
              "          const docLinkHtml = 'Like what you see? Visit the ' +\n",
              "            '<a target=\"_blank\" href=https://colab.research.google.com/notebooks/data_table.ipynb>data table notebook</a>'\n",
              "            + ' to learn more about interactive tables.';\n",
              "          element.innerHTML = '';\n",
              "          dataTable['output_type'] = 'display_data';\n",
              "          await google.colab.output.renderOutput(dataTable, element);\n",
              "          const docLink = document.createElement('div');\n",
              "          docLink.innerHTML = docLinkHtml;\n",
              "          element.appendChild(docLink);\n",
              "        }\n",
              "      </script>\n",
              "    </div>\n",
              "  </div>\n",
              "  "
            ]
          },
          "metadata": {},
          "execution_count": 290
        }
      ]
    },
    {
      "cell_type": "code",
      "source": [
        "spark.conf.set(\"spark.sql.execution.arrow.enabled\", \"true\")\n",
        "df = spark.createDataFrame(pourboire)\n",
        "df.printSchema()"
      ],
      "metadata": {
        "colab": {
          "base_uri": "https://localhost:8080/"
        },
        "id": "LTOzS3vXvOls",
        "outputId": "93280a25-339d-4cbb-f500-1d5ea2bd9f46"
      },
      "execution_count": null,
      "outputs": [
        {
          "output_type": "stream",
          "name": "stdout",
          "text": [
            "root\n",
            " |-- total_bill: double (nullable = true)\n",
            " |-- tip: double (nullable = true)\n",
            " |-- sex: string (nullable = true)\n",
            " |-- smoker: string (nullable = true)\n",
            " |-- day: string (nullable = true)\n",
            " |-- time: string (nullable = true)\n",
            " |-- size: long (nullable = true)\n",
            "\n"
          ]
        },
        {
          "output_type": "stream",
          "name": "stderr",
          "text": [
            "/content/spark-2.3.1-bin-hadoop2.7/python/pyspark/sql/session.py:665: UserWarning: Arrow will not be used in createDataFrame: Unsupported type in conversion from Arrow: dictionary<values=string, indices=int8, ordered=0>\n",
            "  warnings.warn(\"Arrow will not be used in createDataFrame: %s\" % str(e))\n"
          ]
        }
      ]
    },
    {
      "cell_type": "code",
      "source": [
        "# renommer les colonnes en français\n",
        "\n",
        "df2 = df.withColumnRenamed(\"total_bill\",\"Total\") \\\n",
        ".withColumnRenamed(\"tip\",\"pourboire\") \\\n",
        ".withColumnRenamed(\"sex\",\"genre\") \\\n",
        ".withColumnRenamed(\"smoker\",\"fumeur\") \\\n",
        ".withColumnRenamed(\"day\",\"jour\") \\\n",
        ".withColumnRenamed(\"time\",\"repas\") \\\n",
        ".withColumnRenamed(\"size\",\"nombre\")"
      ],
      "metadata": {
        "id": "oCk0siqAvnp9"
      },
      "execution_count": null,
      "outputs": []
    },
    {
      "cell_type": "code",
      "source": [
        "df2.show(3)"
      ],
      "metadata": {
        "colab": {
          "base_uri": "https://localhost:8080/"
        },
        "id": "v0gh8da_wgdN",
        "outputId": "47df73b9-c4cf-477b-db34-a8f8de2d3f83"
      },
      "execution_count": null,
      "outputs": [
        {
          "output_type": "stream",
          "name": "stdout",
          "text": [
            "+-----+---------+------+------+----+------+------+\n",
            "|Total|pourboire| genre|fumeur|jour| repas|nombre|\n",
            "+-----+---------+------+------+----+------+------+\n",
            "|16.99|     1.01|Female|    No| Sun|Dinner|     2|\n",
            "|10.34|     1.66|  Male|    No| Sun|Dinner|     3|\n",
            "|21.01|      3.5|  Male|    No| Sun|Dinner|     3|\n",
            "+-----+---------+------+------+----+------+------+\n",
            "only showing top 3 rows\n",
            "\n"
          ]
        }
      ]
    },
    {
      "cell_type": "code",
      "source": [
        "df2.count()"
      ],
      "metadata": {
        "colab": {
          "base_uri": "https://localhost:8080/"
        },
        "id": "PScNubo3zVUe",
        "outputId": "9524046c-9bfd-4e40-e97d-8649a8f0e5c9"
      },
      "execution_count": null,
      "outputs": [
        {
          "output_type": "execute_result",
          "data": {
            "text/plain": [
              "244"
            ]
          },
          "metadata": {},
          "execution_count": 294
        }
      ]
    },
    {
      "cell_type": "code",
      "source": [
        "# afficher les nombres de pourboires égaux à 2 avec une valeur supérieur à 2\n",
        "\n",
        "df2.filter(df2['pourboire'] > 2 ).filter(df2['nombre'] == 2).show(10)"
      ],
      "metadata": {
        "colab": {
          "base_uri": "https://localhost:8080/"
        },
        "id": "htlZzGtIz_9g",
        "outputId": "1eecf5a5-d9e0-4510-997a-9df3fb3bb7ad"
      },
      "execution_count": null,
      "outputs": [
        {
          "output_type": "stream",
          "name": "stdout",
          "text": [
            "+-----+---------+------+------+----+------+------+\n",
            "|Total|pourboire| genre|fumeur|jour| repas|nombre|\n",
            "+-----+---------+------+------+----+------+------+\n",
            "|23.68|     3.31|  Male|    No| Sun|Dinner|     2|\n",
            "|14.78|     3.23|  Male|    No| Sun|Dinner|     2|\n",
            "|14.83|     3.02|Female|    No| Sun|Dinner|     2|\n",
            "|21.58|     3.92|  Male|    No| Sun|Dinner|     2|\n",
            "|17.92|     4.08|  Male|    No| Sat|Dinner|     2|\n",
            "|20.29|     2.75|Female|    No| Sat|Dinner|     2|\n",
            "|15.77|     2.23|Female|    No| Sat|Dinner|     2|\n",
            "|19.82|     3.18|  Male|    No| Sat|Dinner|     2|\n",
            "| 21.7|      4.3|  Male|    No| Sat|Dinner|     2|\n",
            "|19.65|      3.0|Female|    No| Sat|Dinner|     2|\n",
            "+-----+---------+------+------+----+------+------+\n",
            "only showing top 10 rows\n",
            "\n"
          ]
        }
      ]
    },
    {
      "cell_type": "code",
      "source": [
        "# afficher le nombre de pourboires égal à 2 avec une valeur supérieure à 2 des fumeurs\n",
        "\n",
        "df2.filter(df2['pourboire'] > 2).filter(df2['nombre'] == 2).filter(df2['fumeur'] == 'Yes').show(10)"
      ],
      "metadata": {
        "colab": {
          "base_uri": "https://localhost:8080/"
        },
        "id": "DI8yL-5L1HAy",
        "outputId": "92cf34dc-9f93-4f9a-eaf5-f02be7711967"
      },
      "execution_count": null,
      "outputs": [
        {
          "output_type": "stream",
          "name": "stdout",
          "text": [
            "+-----+---------+------+------+----+------+------+\n",
            "|Total|pourboire| genre|fumeur|jour| repas|nombre|\n",
            "+-----+---------+------+------+----+------+------+\n",
            "|20.29|     3.21|  Male|   Yes| Sat|Dinner|     2|\n",
            "|15.01|     2.09|  Male|   Yes| Sat|Dinner|     2|\n",
            "|26.86|     3.14|Female|   Yes| Sat|Dinner|     2|\n",
            "|25.28|      5.0|Female|   Yes| Sat|Dinner|     2|\n",
            "|17.92|     3.08|  Male|   Yes| Sat|Dinner|     2|\n",
            "|19.44|      3.0|  Male|   Yes|Thur| Lunch|     2|\n",
            "|32.68|      5.0|  Male|   Yes|Thur| Lunch|     2|\n",
            "|28.97|      3.0|  Male|   Yes| Fri|Dinner|     2|\n",
            "|16.32|      4.3|Female|   Yes| Fri|Dinner|     2|\n",
            "|27.28|      4.0|  Male|   Yes| Fri|Dinner|     2|\n",
            "+-----+---------+------+------+----+------+------+\n",
            "only showing top 10 rows\n",
            "\n"
          ]
        }
      ]
    },
    {
      "cell_type": "code",
      "source": [
        "# compter le nombre de pourboires égal à 2 avec une valeur supérieure à 2 des fumeurs\n",
        "\n",
        "df2.filter(df2['pourboire'] > 2).filter(df2['nombre'] == 2).filter(df2['fumeur'] == 'Yes').count()"
      ],
      "metadata": {
        "colab": {
          "base_uri": "https://localhost:8080/"
        },
        "id": "_uiAHOAi1p_h",
        "outputId": "2d2c3559-2579-490d-afc4-dc36eea6ef43"
      },
      "execution_count": null,
      "outputs": [
        {
          "output_type": "execute_result",
          "data": {
            "text/plain": [
              "41"
            ]
          },
          "metadata": {},
          "execution_count": 297
        }
      ]
    },
    {
      "cell_type": "code",
      "source": [
        "# classer en ordre ascandant le nombre de pourboires égal à 2 avec une valeur supérieure à 2 des fumeurs\n",
        "\n",
        "df2.filter(df2['pourboire'] > 2).filter(df2['nombre'] == 2).filter(df2['fumeur'] == 'Yes').orderBy('pourboire',ascending=False).show(10)"
      ],
      "metadata": {
        "colab": {
          "base_uri": "https://localhost:8080/"
        },
        "id": "fIaSOiIH2ScF",
        "outputId": "0837a5ed-d4b2-468f-aa27-1fcdee632e8d"
      },
      "execution_count": null,
      "outputs": [
        {
          "output_type": "stream",
          "name": "stdout",
          "text": [
            "+-----+---------+------+------+----+------+------+\n",
            "|Total|pourboire| genre|fumeur|jour| repas|nombre|\n",
            "+-----+---------+------+------+----+------+------+\n",
            "|23.33|     5.65|  Male|   Yes| Sun|Dinner|     2|\n",
            "| 7.25|     5.15|  Male|   Yes| Sun|Dinner|     2|\n",
            "|25.28|      5.0|Female|   Yes| Sat|Dinner|     2|\n",
            "|32.68|      5.0|  Male|   Yes|Thur| Lunch|     2|\n",
            "|16.32|      4.3|Female|   Yes| Fri|Dinner|     2|\n",
            "|25.21|     4.29|  Male|   Yes| Sat|Dinner|     2|\n",
            "|19.81|     4.19|Female|   Yes|Thur| Lunch|     2|\n",
            "|20.49|     4.06|  Male|   Yes| Sat|Dinner|     2|\n",
            "|14.31|      4.0|Female|   Yes| Sat|Dinner|     2|\n",
            "|16.82|      4.0|  Male|   Yes| Sun|Dinner|     2|\n",
            "+-----+---------+------+------+----+------+------+\n",
            "only showing top 10 rows\n",
            "\n"
          ]
        }
      ]
    },
    {
      "cell_type": "code",
      "source": [
        "# grouper les fumeurs \n",
        "\n",
        "df2.groupBy('fumeur').count().show()"
      ],
      "metadata": {
        "colab": {
          "base_uri": "https://localhost:8080/"
        },
        "id": "Q7wug4Ta32iH",
        "outputId": "e2e9bba3-45a1-4158-ff69-5aec08cbf2eb"
      },
      "execution_count": null,
      "outputs": [
        {
          "output_type": "stream",
          "name": "stdout",
          "text": [
            "+------+-----+\n",
            "|fumeur|count|\n",
            "+------+-----+\n",
            "|    No|  151|\n",
            "|   Yes|   93|\n",
            "+------+-----+\n",
            "\n"
          ]
        }
      ]
    },
    {
      "cell_type": "code",
      "source": [
        "# grouper selon le genre\n",
        "\n",
        "df2.groupBy('genre').count().show()"
      ],
      "metadata": {
        "colab": {
          "base_uri": "https://localhost:8080/"
        },
        "id": "ZuCcfu7S3qAT",
        "outputId": "d833c797-d919-45a5-c626-5ce9045a3bc8"
      },
      "execution_count": null,
      "outputs": [
        {
          "output_type": "stream",
          "name": "stdout",
          "text": [
            "+------+-----+\n",
            "| genre|count|\n",
            "+------+-----+\n",
            "|Female|   87|\n",
            "|  Male|  157|\n",
            "+------+-----+\n",
            "\n"
          ]
        }
      ]
    },
    {
      "cell_type": "code",
      "source": [
        "# jours classés en ordre décroissant\n",
        "\n",
        "df2.groupBy('jour').count().orderBy('count',ascending=False).show(10)"
      ],
      "metadata": {
        "colab": {
          "base_uri": "https://localhost:8080/"
        },
        "id": "Vi-HJwC94Cxa",
        "outputId": "5680f926-b363-45a9-9bc7-f2d0b9930df3"
      },
      "execution_count": null,
      "outputs": [
        {
          "output_type": "stream",
          "name": "stdout",
          "text": [
            "+----+-----+\n",
            "|jour|count|\n",
            "+----+-----+\n",
            "| Sat|   87|\n",
            "| Sun|   76|\n",
            "|Thur|   62|\n",
            "| Fri|   19|\n",
            "+----+-----+\n",
            "\n"
          ]
        }
      ]
    },
    {
      "cell_type": "code",
      "source": [
        "# prise en main des fonctions natives\n",
        "# elles se trouvent dans pyspark-sql\n",
        "\n",
        "\n",
        "from pyspark.sql import functions\n",
        "print(dir(functions))"
      ],
      "metadata": {
        "colab": {
          "base_uri": "https://localhost:8080/"
        },
        "id": "4AWL28vnVE10",
        "outputId": "3be370aa-b58b-4f11-d6a5-b1bd51b48427"
      },
      "execution_count": null,
      "outputs": [
        {
          "output_type": "stream",
          "name": "stdout",
          "text": [
            "['AutoBatchedSerializer', 'Column', 'DataFrame', 'DataType', 'PandasUDFType', 'PickleSerializer', 'PythonEvalType', 'SparkContext', 'StringType', 'UserDefinedFunction', '__all__', '__builtins__', '__cached__', '__doc__', '__file__', '__loader__', '__name__', '__package__', '__spec__', '_binary_mathfunctions', '_collect_list_doc', '_collect_set_doc', '_create_binary_mathfunction', '_create_function', '_create_udf', '_create_window_function', '_functions', '_functions_1_4', '_functions_1_6', '_functions_2_1', '_functions_deprecated', '_lit_doc', '_message', '_string_functions', '_test', '_to_java_column', '_to_seq', '_window_functions', '_wrap_deprecated_function', 'abs', 'acos', 'add_months', 'approxCountDistinct', 'approx_count_distinct', 'array', 'array_contains', 'asc', 'ascii', 'asin', 'atan', 'atan2', 'avg', 'base64', 'bin', 'bitwiseNOT', 'blacklist', 'broadcast', 'bround', 'cbrt', 'ceil', 'coalesce', 'col', 'collect_list', 'collect_set', 'column', 'concat', 'concat_ws', 'conv', 'corr', 'cos', 'cosh', 'count', 'countDistinct', 'covar_pop', 'covar_samp', 'crc32', 'create_map', 'cume_dist', 'current_date', 'current_timestamp', 'date_add', 'date_format', 'date_sub', 'date_trunc', 'datediff', 'dayofmonth', 'dayofweek', 'dayofyear', 'decode', 'degrees', 'dense_rank', 'desc', 'encode', 'exp', 'explode', 'explode_outer', 'expm1', 'expr', 'factorial', 'first', 'floor', 'format_number', 'format_string', 'from_json', 'from_unixtime', 'from_utc_timestamp', 'functools', 'get_json_object', 'greatest', 'grouping', 'grouping_id', 'hash', 'hex', 'hour', 'hypot', 'ignore_unicode_prefix', 'initcap', 'input_file_name', 'instr', 'isnan', 'isnull', 'json_tuple', 'kurtosis', 'lag', 'last', 'last_day', 'lead', 'least', 'length', 'levenshtein', 'lit', 'locate', 'log', 'log10', 'log1p', 'log2', 'lower', 'lpad', 'ltrim', 'map_keys', 'map_values', 'math', 'max', 'md5', 'mean', 'min', 'minute', 'monotonically_increasing_id', 'month', 'months_between', 'nanvl', 'next_day', 'ntile', 'pandas_udf', 'percent_rank', 'posexplode', 'posexplode_outer', 'pow', 'quarter', 'radians', 'rand', 'randn', 'rank', 'regexp_extract', 'regexp_replace', 'repeat', 'reverse', 'rint', 'round', 'row_number', 'rpad', 'rtrim', 'second', 'sha1', 'sha2', 'shiftLeft', 'shiftRight', 'shiftRightUnsigned', 'signum', 'sin', 'since', 'sinh', 'size', 'skewness', 'sort_array', 'soundex', 'spark_partition_id', 'split', 'sqrt', 'stddev', 'stddev_pop', 'stddev_samp', 'struct', 'substring', 'substring_index', 'sum', 'sumDistinct', 'sys', 'tan', 'tanh', 'toDegrees', 'toRadians', 'to_date', 'to_json', 'to_timestamp', 'to_utc_timestamp', 'translate', 'trim', 'trunc', 'udf', 'unbase64', 'unhex', 'unix_timestamp', 'upper', 'var_pop', 'var_samp', 'variance', 'warnings', 'weekofyear', 'when', 'window', 'year']\n"
          ]
        }
      ]
    },
    {
      "cell_type": "code",
      "source": [
        "from pyspark.sql.types import *\n",
        "schema=StructType().add(\"id_utilisateur\",\"string\").add(\"pays\",\"string\").add(\"profession\", \"string\").add(\"genre\",'string').add(\"age\", \"integer\")\n",
        "df=spark.createDataFrame([(\"A123\",'Maroc',\"Médecin\",\"Femme\", 33),(\"B234\",'Canada',\"Entrepreneur\",\"Femme\",35),(\"C345\",'France',\"Professeur\", \"Homme\",40)],schema=schema)\n",
        "df.show()"
      ],
      "metadata": {
        "colab": {
          "base_uri": "https://localhost:8080/"
        },
        "id": "bGLKRK-dX6F7",
        "outputId": "8232dc49-397c-4a98-915e-9de073b19172"
      },
      "execution_count": null,
      "outputs": [
        {
          "output_type": "stream",
          "name": "stdout",
          "text": [
            "+--------------+------+------------+-----+---+\n",
            "|id_utilisateur|  pays|  profession|genre|age|\n",
            "+--------------+------+------------+-----+---+\n",
            "|          A123| Maroc|     Médecin|Femme| 33|\n",
            "|          B234|Canada|Entrepreneur|Femme| 35|\n",
            "|          C345|France|  Professeur|Homme| 40|\n",
            "+--------------+------+------------+-----+---+\n",
            "\n"
          ]
        }
      ]
    },
    {
      "cell_type": "code",
      "source": [
        "# tout en minuscule\n",
        "\n",
        "from pyspark.sql.functions import lower, upper, col, substring\n",
        "df.select(lower(col('pays'))).show()"
      ],
      "metadata": {
        "colab": {
          "base_uri": "https://localhost:8080/"
        },
        "id": "eK-O_SgjYGjK",
        "outputId": "03659567-a014-49c7-d416-e827aee578b1"
      },
      "execution_count": null,
      "outputs": [
        {
          "output_type": "stream",
          "name": "stdout",
          "text": [
            "+-----------+\n",
            "|lower(pays)|\n",
            "+-----------+\n",
            "|      maroc|\n",
            "|     canada|\n",
            "|     france|\n",
            "+-----------+\n",
            "\n"
          ]
        }
      ]
    },
    {
      "cell_type": "code",
      "source": [
        "# nom des pays en minuscule, majuscule et les premières lettres\n",
        "\n",
        "df.select(lower(col('pays')),upper(col('pays')),substring(col('pays'),1,3)).show(5)"
      ],
      "metadata": {
        "colab": {
          "base_uri": "https://localhost:8080/"
        },
        "id": "PngEEm8KYqWq",
        "outputId": "7e67d562-7073-48bf-a288-06dc1231df94"
      },
      "execution_count": null,
      "outputs": [
        {
          "output_type": "stream",
          "name": "stdout",
          "text": [
            "+-----------+-----------+---------------------+\n",
            "|lower(pays)|upper(pays)|substring(pays, 1, 3)|\n",
            "+-----------+-----------+---------------------+\n",
            "|      maroc|      MAROC|                  Mar|\n",
            "|     canada|     CANADA|                  Can|\n",
            "|     france|     FRANCE|                  Fra|\n",
            "+-----------+-----------+---------------------+\n",
            "\n"
          ]
        }
      ]
    },
    {
      "cell_type": "code",
      "source": [
        "# calcul de la moyenne des ages en utilisant avg\n",
        "\n",
        "from pyspark.sql.functions import avg\n",
        "df.select(avg(col('Age'))).show()"
      ],
      "metadata": {
        "colab": {
          "base_uri": "https://localhost:8080/"
        },
        "id": "YadDUQd8Z2ms",
        "outputId": "8ca8d876-4334-4243-f04e-c8f5240df7b9"
      },
      "execution_count": null,
      "outputs": [
        {
          "output_type": "stream",
          "name": "stdout",
          "text": [
            "+--------+\n",
            "|avg(Age)|\n",
            "+--------+\n",
            "|    36.0|\n",
            "+--------+\n",
            "\n"
          ]
        }
      ]
    },
    {
      "cell_type": "code",
      "source": [
        "# changer l'encodage avec sondex\n",
        "\n",
        "from pyspark.sql.functions import soundex\n",
        "df.select(soundex(df.pays).alias(\"soundex\")).show()"
      ],
      "metadata": {
        "colab": {
          "base_uri": "https://localhost:8080/"
        },
        "id": "HyNxEE6ybp4L",
        "outputId": "cf50c7ef-2691-4534-e702-04b61328d8be"
      },
      "execution_count": null,
      "outputs": [
        {
          "output_type": "stream",
          "name": "stdout",
          "text": [
            "+-------+\n",
            "|soundex|\n",
            "+-------+\n",
            "|   M620|\n",
            "|   C530|\n",
            "|   F652|\n",
            "+-------+\n",
            "\n"
          ]
        }
      ]
    },
    {
      "cell_type": "code",
      "source": [
        "# manipuler des dates\n",
        "\n",
        "df1 = spark.createDataFrame(((\"2021-01-23\",1),(\"2021-06-24\",2),(\"2021-09-20\",3)),(\"date\",\"nombre_de_mois\"))\n",
        "df1.show()"
      ],
      "metadata": {
        "colab": {
          "base_uri": "https://localhost:8080/"
        },
        "id": "kC4uD2Q8csgL",
        "outputId": "256bfa6f-e0b7-4271-aff9-f4263b8730ce"
      },
      "execution_count": null,
      "outputs": [
        {
          "output_type": "stream",
          "name": "stdout",
          "text": [
            "+----------+--------------+\n",
            "|      date|nombre_de_mois|\n",
            "+----------+--------------+\n",
            "|2021-01-23|             1|\n",
            "|2021-06-24|             2|\n",
            "|2021-09-20|             3|\n",
            "+----------+--------------+\n",
            "\n"
          ]
        }
      ]
    },
    {
      "cell_type": "code",
      "source": [
        "# ajouter un nbre de mois à la date initiale\n",
        "\n",
        "import pyspark.sql.functions as F\n",
        "df1.withColumn(\"nouvelle_date\",F.add_months(col(\"date\"), df1.first()[1])).show()"
      ],
      "metadata": {
        "colab": {
          "base_uri": "https://localhost:8080/"
        },
        "id": "lgX67LkKd17_",
        "outputId": "48ad2e7a-d57e-42d2-9c37-06af8879a56f"
      },
      "execution_count": null,
      "outputs": [
        {
          "output_type": "stream",
          "name": "stdout",
          "text": [
            "+----------+--------------+-------------+\n",
            "|      date|nombre_de_mois|nouvelle_date|\n",
            "+----------+--------------+-------------+\n",
            "|2021-01-23|             1|   2021-02-23|\n",
            "|2021-06-24|             2|   2021-07-24|\n",
            "|2021-09-20|             3|   2021-10-20|\n",
            "+----------+--------------+-------------+\n",
            "\n"
          ]
        }
      ]
    },
    {
      "cell_type": "code",
      "source": [
        "df2 = spark.createDataFrame([(\"2021_01_11\",)],[\"date\"])\n",
        "df2.show()"
      ],
      "metadata": {
        "colab": {
          "base_uri": "https://localhost:8080/"
        },
        "id": "06W0Oxx6glKL",
        "outputId": "21692def-6943-49fe-f664-119d8ad7e632"
      },
      "execution_count": null,
      "outputs": [
        {
          "output_type": "stream",
          "name": "stdout",
          "text": [
            "+----------+\n",
            "|      date|\n",
            "+----------+\n",
            "|2021_01_11|\n",
            "+----------+\n",
            "\n"
          ]
        }
      ]
    },
    {
      "cell_type": "code",
      "source": [
        "df2.select(F.date_format('date', 'MM-dd-yyy').alias('Format date')).show()"
      ],
      "metadata": {
        "colab": {
          "base_uri": "https://localhost:8080/"
        },
        "id": "T0E_IWutgrY9",
        "outputId": "403807df-9ed3-4b2e-c51d-593e21f2a8e4"
      },
      "execution_count": null,
      "outputs": [
        {
          "output_type": "stream",
          "name": "stdout",
          "text": [
            "+-----------+\n",
            "|Format date|\n",
            "+-----------+\n",
            "|       null|\n",
            "+-----------+\n",
            "\n"
          ]
        }
      ]
    },
    {
      "cell_type": "code",
      "source": [
        "df2.printSchema()"
      ],
      "metadata": {
        "colab": {
          "base_uri": "https://localhost:8080/"
        },
        "id": "mHUHQdQMg343",
        "outputId": "f334e1fa-ab5c-4dff-9a01-5d900e168d19"
      },
      "execution_count": null,
      "outputs": [
        {
          "output_type": "stream",
          "name": "stdout",
          "text": [
            "root\n",
            " |-- date: string (nullable = true)\n",
            "\n"
          ]
        }
      ]
    },
    {
      "cell_type": "code",
      "source": [
        "# transformer le format date \n",
        "\n",
        "from pyspark.sql.functions import to_date\n",
        "\n",
        " \n",
        "df3 = df2.withColumn('date',to_date(df2.date, 'yyyy_MM_dd'))\n",
        "df3.printSchema()\n",
        "df3.select(\"date\").dtypes"
      ],
      "metadata": {
        "colab": {
          "base_uri": "https://localhost:8080/"
        },
        "id": "Z0tIrcTRezQU",
        "outputId": "b0e2199e-af9e-456c-9e9f-5319bfae4227"
      },
      "execution_count": null,
      "outputs": [
        {
          "output_type": "stream",
          "name": "stdout",
          "text": [
            "root\n",
            " |-- date: date (nullable = true)\n",
            "\n"
          ]
        },
        {
          "output_type": "execute_result",
          "data": {
            "text/plain": [
              "[('date', 'date')]"
            ]
          },
          "metadata": {},
          "execution_count": 313
        }
      ]
    },
    {
      "cell_type": "code",
      "source": [
        "df3.show()"
      ],
      "metadata": {
        "colab": {
          "base_uri": "https://localhost:8080/"
        },
        "id": "4HtkPm92g_YB",
        "outputId": "5bc8c2f6-34f7-4103-8ee7-7360908d3ddb"
      },
      "execution_count": null,
      "outputs": [
        {
          "output_type": "stream",
          "name": "stdout",
          "text": [
            "+----------+\n",
            "|      date|\n",
            "+----------+\n",
            "|2021-01-11|\n",
            "+----------+\n",
            "\n"
          ]
        }
      ]
    },
    {
      "cell_type": "code",
      "source": [
        "df3.select(F.date_format('date', 'MM-dd-yyyy').alias('Format date')).show()"
      ],
      "metadata": {
        "colab": {
          "base_uri": "https://localhost:8080/"
        },
        "id": "GOBpSvhThDSq",
        "outputId": "3b4683cd-68d6-45bf-aa79-9f78270b1a6b"
      },
      "execution_count": null,
      "outputs": [
        {
          "output_type": "stream",
          "name": "stdout",
          "text": [
            "+-----------+\n",
            "|Format date|\n",
            "+-----------+\n",
            "| 01-11-2021|\n",
            "+-----------+\n",
            "\n"
          ]
        }
      ]
    },
    {
      "cell_type": "code",
      "source": [
        "# créer des fonctions utilisateurs avec UDF\n",
        "\n",
        "import pyspark.sql.functions as F\n",
        "from pyspark.sql.types import *\n",
        "\n",
        "schema=StructType().add(\"id_utilisateur\",\"string\").add(\"pays\",\"string\").add(\"profession\", \"string\").add(\"genre\",'string').add(\"age\", \"integer\")\n",
        "df=spark.createDataFrame([(\"A123\",'Maroc',\"Médecin\",\"Femme\", 33),(\"B234\",'Canada',\"Entrepreneur\",\"Femme\",35),(\"C345\",'France',\"Professeur\", \"Homme\",40)],schema=schema)"
      ],
      "metadata": {
        "id": "n20AKgxolBCl"
      },
      "execution_count": null,
      "outputs": []
    },
    {
      "cell_type": "code",
      "source": [
        "df.show()"
      ],
      "metadata": {
        "colab": {
          "base_uri": "https://localhost:8080/"
        },
        "id": "j2raCw0Olehy",
        "outputId": "31db2f7d-bb2a-41af-d6a8-18543a72f35f"
      },
      "execution_count": null,
      "outputs": [
        {
          "output_type": "stream",
          "name": "stdout",
          "text": [
            "+--------------+------+------------+-----+---+\n",
            "|id_utilisateur|  pays|  profession|genre|age|\n",
            "+--------------+------+------------+-----+---+\n",
            "|          A123| Maroc|     Médecin|Femme| 33|\n",
            "|          B234|Canada|Entrepreneur|Femme| 35|\n",
            "|          C345|France|  Professeur|Homme| 40|\n",
            "+--------------+------+------------+-----+---+\n",
            "\n"
          ]
        }
      ]
    },
    {
      "cell_type": "code",
      "source": [
        "# creer une fonction pour classer les utilisateurs selon leur age\n",
        "\n",
        "def cat_age(age):\n",
        "  if age < 40:\n",
        "    return \"Catégorie 1\"\n",
        "  else:\n",
        "    return \"Catégorie 2\""
      ],
      "metadata": {
        "id": "ES15nm3SllhC"
      },
      "execution_count": null,
      "outputs": []
    },
    {
      "cell_type": "code",
      "source": [
        "from pyspark.sql.functions import udf\n",
        "age_udf=udf(cat_age,StringType())"
      ],
      "metadata": {
        "id": "IkS7WYc6mJlS"
      },
      "execution_count": null,
      "outputs": []
    },
    {
      "cell_type": "code",
      "source": [
        "df=df.withColumn('cat_age',age_udf(df['age']))\n",
        "df.show()"
      ],
      "metadata": {
        "colab": {
          "base_uri": "https://localhost:8080/"
        },
        "id": "nwdv0cJPmdJD",
        "outputId": "edf9e77f-10a8-4872-ecdc-51e5b0a82992"
      },
      "execution_count": null,
      "outputs": [
        {
          "output_type": "stream",
          "name": "stdout",
          "text": [
            "+--------------+------+------------+-----+---+-----------+\n",
            "|id_utilisateur|  pays|  profession|genre|age|    cat_age|\n",
            "+--------------+------+------------+-----+---+-----------+\n",
            "|          A123| Maroc|     Médecin|Femme| 33|Catégorie 1|\n",
            "|          B234|Canada|Entrepreneur|Femme| 35|Catégorie 1|\n",
            "|          C345|France|  Professeur|Homme| 40|Catégorie 2|\n",
            "+--------------+------+------------+-----+---+-----------+\n",
            "\n"
          ]
        }
      ]
    },
    {
      "cell_type": "code",
      "source": [
        "df.groupby(\"cat_age\").count().show()"
      ],
      "metadata": {
        "colab": {
          "base_uri": "https://localhost:8080/"
        },
        "id": "BkBCYKu_mr5z",
        "outputId": "12f8f6b1-6605-4c79-8963-506fa8258f9f"
      },
      "execution_count": null,
      "outputs": [
        {
          "output_type": "stream",
          "name": "stdout",
          "text": [
            "+-----------+-----+\n",
            "|    cat_age|count|\n",
            "+-----------+-----+\n",
            "|Catégorie 1|    2|\n",
            "|Catégorie 2|    1|\n",
            "+-----------+-----+\n",
            "\n"
          ]
        }
      ]
    },
    {
      "cell_type": "code",
      "source": [
        "# Travailler avec des jointures\n",
        "\n",
        "a = [('chat',1),('chien',2),('singe',3),('lion',4)]\n",
        "df_a = spark.createDataFrame(a,['animal','id'])\n",
        "\n",
        "b = [('tigre',1),('chat',2),('singe',3),('girafe',4)]\n",
        "df_b = spark.createDataFrame(b,['animal','id'])\n",
        " \n",
        "df_a.show()\n",
        "df_b.show()"
      ],
      "metadata": {
        "colab": {
          "base_uri": "https://localhost:8080/"
        },
        "id": "ar3QetwgnYvI",
        "outputId": "308bc574-ca74-47b8-d470-6cf8e140c4ee"
      },
      "execution_count": null,
      "outputs": [
        {
          "output_type": "stream",
          "name": "stdout",
          "text": [
            "+------+---+\n",
            "|animal| id|\n",
            "+------+---+\n",
            "|  chat|  1|\n",
            "| chien|  2|\n",
            "| singe|  3|\n",
            "|  lion|  4|\n",
            "+------+---+\n",
            "\n",
            "+------+---+\n",
            "|animal| id|\n",
            "+------+---+\n",
            "| tigre|  1|\n",
            "|  chat|  2|\n",
            "| singe|  3|\n",
            "|girafe|  4|\n",
            "+------+---+\n",
            "\n"
          ]
        }
      ]
    },
    {
      "cell_type": "code",
      "source": [
        "# joindre les éléments similaires dans les deux DF\n",
        "j_interne = df_a.join(df_b, df_a.animal == df_b.animal)\n",
        "j_interne.show()"
      ],
      "metadata": {
        "colab": {
          "base_uri": "https://localhost:8080/"
        },
        "id": "y6AC_q-8nnAw",
        "outputId": "d0615c4c-6227-4334-e5d6-76ea91891422"
      },
      "execution_count": null,
      "outputs": [
        {
          "output_type": "stream",
          "name": "stdout",
          "text": [
            "+------+---+------+---+\n",
            "|animal| id|animal| id|\n",
            "+------+---+------+---+\n",
            "|  chat|  1|  chat|  2|\n",
            "| singe|  3| singe|  3|\n",
            "+------+---+------+---+\n",
            "\n"
          ]
        }
      ]
    },
    {
      "cell_type": "code",
      "source": [
        "j_gauche = df_a.join(df_b, df_a.animal == df_b.animal,how='left')\n",
        "j_gauche.show()"
      ],
      "metadata": {
        "colab": {
          "base_uri": "https://localhost:8080/"
        },
        "id": "B5UV4qmmoqaU",
        "outputId": "39ad4ae3-94c7-4986-a543-990c9c0f02ba"
      },
      "execution_count": null,
      "outputs": [
        {
          "output_type": "stream",
          "name": "stdout",
          "text": [
            "+------+---+------+----+\n",
            "|animal| id|animal|  id|\n",
            "+------+---+------+----+\n",
            "| chien|  2|  null|null|\n",
            "|  lion|  4|  null|null|\n",
            "|  chat|  1|  chat|   2|\n",
            "| singe|  3| singe|   3|\n",
            "+------+---+------+----+\n",
            "\n"
          ]
        }
      ]
    },
    {
      "cell_type": "code",
      "source": [
        "j_droite = df_a.join(df_b, df_a.animal == df_b.animal,how='right')\n",
        "j_droite.show()"
      ],
      "metadata": {
        "colab": {
          "base_uri": "https://localhost:8080/"
        },
        "id": "nRlyTVVwozT9",
        "outputId": "67c00d66-ebde-49bb-a41b-6194e9d6ff54"
      },
      "execution_count": null,
      "outputs": [
        {
          "output_type": "stream",
          "name": "stdout",
          "text": [
            "+------+----+------+---+\n",
            "|animal|  id|animal| id|\n",
            "+------+----+------+---+\n",
            "|  chat|   1|  chat|  2|\n",
            "|  null|null| tigre|  1|\n",
            "| singe|   3| singe|  3|\n",
            "|  null|null|girafe|  4|\n",
            "+------+----+------+---+\n",
            "\n"
          ]
        }
      ]
    },
    {
      "cell_type": "code",
      "source": [
        "# Débuter avec les RDD\n",
        "\n",
        "from google.colab import files\n",
        "files.upload()"
      ],
      "metadata": {
        "colab": {
          "base_uri": "https://localhost:8080/",
          "height": 91
        },
        "id": "Vav3GXtngpAO",
        "outputId": "f586d64f-666f-418a-ea0c-9cd52c70b6a0"
      },
      "execution_count": null,
      "outputs": [
        {
          "output_type": "display_data",
          "data": {
            "text/plain": [
              "<IPython.core.display.HTML object>"
            ],
            "text/html": [
              "\n",
              "     <input type=\"file\" id=\"files-3f206a58-8885-48fe-b7a8-f5e086169b3d\" name=\"files[]\" multiple disabled\n",
              "        style=\"border:none\" />\n",
              "     <output id=\"result-3f206a58-8885-48fe-b7a8-f5e086169b3d\">\n",
              "      Upload widget is only available when the cell has been executed in the\n",
              "      current browser session. Please rerun this cell to enable.\n",
              "      </output>\n",
              "      <script>// Copyright 2017 Google LLC\n",
              "//\n",
              "// Licensed under the Apache License, Version 2.0 (the \"License\");\n",
              "// you may not use this file except in compliance with the License.\n",
              "// You may obtain a copy of the License at\n",
              "//\n",
              "//      http://www.apache.org/licenses/LICENSE-2.0\n",
              "//\n",
              "// Unless required by applicable law or agreed to in writing, software\n",
              "// distributed under the License is distributed on an \"AS IS\" BASIS,\n",
              "// WITHOUT WARRANTIES OR CONDITIONS OF ANY KIND, either express or implied.\n",
              "// See the License for the specific language governing permissions and\n",
              "// limitations under the License.\n",
              "\n",
              "/**\n",
              " * @fileoverview Helpers for google.colab Python module.\n",
              " */\n",
              "(function(scope) {\n",
              "function span(text, styleAttributes = {}) {\n",
              "  const element = document.createElement('span');\n",
              "  element.textContent = text;\n",
              "  for (const key of Object.keys(styleAttributes)) {\n",
              "    element.style[key] = styleAttributes[key];\n",
              "  }\n",
              "  return element;\n",
              "}\n",
              "\n",
              "// Max number of bytes which will be uploaded at a time.\n",
              "const MAX_PAYLOAD_SIZE = 100 * 1024;\n",
              "\n",
              "function _uploadFiles(inputId, outputId) {\n",
              "  const steps = uploadFilesStep(inputId, outputId);\n",
              "  const outputElement = document.getElementById(outputId);\n",
              "  // Cache steps on the outputElement to make it available for the next call\n",
              "  // to uploadFilesContinue from Python.\n",
              "  outputElement.steps = steps;\n",
              "\n",
              "  return _uploadFilesContinue(outputId);\n",
              "}\n",
              "\n",
              "// This is roughly an async generator (not supported in the browser yet),\n",
              "// where there are multiple asynchronous steps and the Python side is going\n",
              "// to poll for completion of each step.\n",
              "// This uses a Promise to block the python side on completion of each step,\n",
              "// then passes the result of the previous step as the input to the next step.\n",
              "function _uploadFilesContinue(outputId) {\n",
              "  const outputElement = document.getElementById(outputId);\n",
              "  const steps = outputElement.steps;\n",
              "\n",
              "  const next = steps.next(outputElement.lastPromiseValue);\n",
              "  return Promise.resolve(next.value.promise).then((value) => {\n",
              "    // Cache the last promise value to make it available to the next\n",
              "    // step of the generator.\n",
              "    outputElement.lastPromiseValue = value;\n",
              "    return next.value.response;\n",
              "  });\n",
              "}\n",
              "\n",
              "/**\n",
              " * Generator function which is called between each async step of the upload\n",
              " * process.\n",
              " * @param {string} inputId Element ID of the input file picker element.\n",
              " * @param {string} outputId Element ID of the output display.\n",
              " * @return {!Iterable<!Object>} Iterable of next steps.\n",
              " */\n",
              "function* uploadFilesStep(inputId, outputId) {\n",
              "  const inputElement = document.getElementById(inputId);\n",
              "  inputElement.disabled = false;\n",
              "\n",
              "  const outputElement = document.getElementById(outputId);\n",
              "  outputElement.innerHTML = '';\n",
              "\n",
              "  const pickedPromise = new Promise((resolve) => {\n",
              "    inputElement.addEventListener('change', (e) => {\n",
              "      resolve(e.target.files);\n",
              "    });\n",
              "  });\n",
              "\n",
              "  const cancel = document.createElement('button');\n",
              "  inputElement.parentElement.appendChild(cancel);\n",
              "  cancel.textContent = 'Cancel upload';\n",
              "  const cancelPromise = new Promise((resolve) => {\n",
              "    cancel.onclick = () => {\n",
              "      resolve(null);\n",
              "    };\n",
              "  });\n",
              "\n",
              "  // Wait for the user to pick the files.\n",
              "  const files = yield {\n",
              "    promise: Promise.race([pickedPromise, cancelPromise]),\n",
              "    response: {\n",
              "      action: 'starting',\n",
              "    }\n",
              "  };\n",
              "\n",
              "  cancel.remove();\n",
              "\n",
              "  // Disable the input element since further picks are not allowed.\n",
              "  inputElement.disabled = true;\n",
              "\n",
              "  if (!files) {\n",
              "    return {\n",
              "      response: {\n",
              "        action: 'complete',\n",
              "      }\n",
              "    };\n",
              "  }\n",
              "\n",
              "  for (const file of files) {\n",
              "    const li = document.createElement('li');\n",
              "    li.append(span(file.name, {fontWeight: 'bold'}));\n",
              "    li.append(span(\n",
              "        `(${file.type || 'n/a'}) - ${file.size} bytes, ` +\n",
              "        `last modified: ${\n",
              "            file.lastModifiedDate ? file.lastModifiedDate.toLocaleDateString() :\n",
              "                                    'n/a'} - `));\n",
              "    const percent = span('0% done');\n",
              "    li.appendChild(percent);\n",
              "\n",
              "    outputElement.appendChild(li);\n",
              "\n",
              "    const fileDataPromise = new Promise((resolve) => {\n",
              "      const reader = new FileReader();\n",
              "      reader.onload = (e) => {\n",
              "        resolve(e.target.result);\n",
              "      };\n",
              "      reader.readAsArrayBuffer(file);\n",
              "    });\n",
              "    // Wait for the data to be ready.\n",
              "    let fileData = yield {\n",
              "      promise: fileDataPromise,\n",
              "      response: {\n",
              "        action: 'continue',\n",
              "      }\n",
              "    };\n",
              "\n",
              "    // Use a chunked sending to avoid message size limits. See b/62115660.\n",
              "    let position = 0;\n",
              "    do {\n",
              "      const length = Math.min(fileData.byteLength - position, MAX_PAYLOAD_SIZE);\n",
              "      const chunk = new Uint8Array(fileData, position, length);\n",
              "      position += length;\n",
              "\n",
              "      const base64 = btoa(String.fromCharCode.apply(null, chunk));\n",
              "      yield {\n",
              "        response: {\n",
              "          action: 'append',\n",
              "          file: file.name,\n",
              "          data: base64,\n",
              "        },\n",
              "      };\n",
              "\n",
              "      let percentDone = fileData.byteLength === 0 ?\n",
              "          100 :\n",
              "          Math.round((position / fileData.byteLength) * 100);\n",
              "      percent.textContent = `${percentDone}% done`;\n",
              "\n",
              "    } while (position < fileData.byteLength);\n",
              "  }\n",
              "\n",
              "  // All done.\n",
              "  yield {\n",
              "    response: {\n",
              "      action: 'complete',\n",
              "    }\n",
              "  };\n",
              "}\n",
              "\n",
              "scope.google = scope.google || {};\n",
              "scope.google.colab = scope.google.colab || {};\n",
              "scope.google.colab._files = {\n",
              "  _uploadFiles,\n",
              "  _uploadFilesContinue,\n",
              "};\n",
              "})(self);\n",
              "</script> "
            ]
          },
          "metadata": {}
        },
        {
          "output_type": "stream",
          "name": "stdout",
          "text": [
            "Saving texte.txt to texte (4).txt\n"
          ]
        },
        {
          "output_type": "execute_result",
          "data": {
            "text/plain": [
              "{'texte.txt': b'Les RDD sont utiles pour le traitement des donn\\xc3\\xa9es non structur\\xc3\\xa9es'}"
            ]
          },
          "metadata": {},
          "execution_count": 357
        }
      ]
    },
    {
      "cell_type": "code",
      "source": [
        "rdd = sc.textFile(\"texte.txt\")\n",
        "type(rdd)"
      ],
      "metadata": {
        "colab": {
          "base_uri": "https://localhost:8080/"
        },
        "id": "AenR6hmhjaL6",
        "outputId": "08941951-a46c-4438-bc57-3323413bcb23"
      },
      "execution_count": null,
      "outputs": [
        {
          "output_type": "execute_result",
          "data": {
            "text/plain": [
              "pyspark.rdd.RDD"
            ]
          },
          "metadata": {},
          "execution_count": 358
        }
      ]
    },
    {
      "cell_type": "code",
      "source": [
        "rdd.collect()"
      ],
      "metadata": {
        "colab": {
          "base_uri": "https://localhost:8080/"
        },
        "id": "YBmiFhVQjq4j",
        "outputId": "65af1116-1bb4-4f83-d717-17d600ff047d"
      },
      "execution_count": null,
      "outputs": [
        {
          "output_type": "execute_result",
          "data": {
            "text/plain": [
              "['Les RDD sont utiles pour le traitement des données non structurées']"
            ]
          },
          "metadata": {},
          "execution_count": 359
        }
      ]
    },
    {
      "cell_type": "code",
      "source": [
        "# rdd avec une liste en utilisant numpy\n",
        "\n",
        "import numpy as np\n",
        "liste=np.random.randint(0,100,10)\n",
        "liste"
      ],
      "metadata": {
        "colab": {
          "base_uri": "https://localhost:8080/"
        },
        "id": "excawoV1j1uY",
        "outputId": "a13c64d6-4f66-43c5-b77d-8e23ac4a47c9"
      },
      "execution_count": null,
      "outputs": [
        {
          "output_type": "execute_result",
          "data": {
            "text/plain": [
              "array([ 4, 94, 38, 27, 86, 63, 21, 53, 35, 63])"
            ]
          },
          "metadata": {},
          "execution_count": 360
        }
      ]
    },
    {
      "cell_type": "code",
      "source": [
        "rdd_2 =sc.parallelize(liste)"
      ],
      "metadata": {
        "id": "hB-zFx31kZw2"
      },
      "execution_count": null,
      "outputs": []
    },
    {
      "cell_type": "code",
      "source": [
        "rdd_2.glom().collect()"
      ],
      "metadata": {
        "colab": {
          "base_uri": "https://localhost:8080/"
        },
        "id": "MNrDz2jpkpFH",
        "outputId": "827f1785-279b-4273-e9de-cb38a53f3ade"
      },
      "execution_count": null,
      "outputs": [
        {
          "output_type": "execute_result",
          "data": {
            "text/plain": [
              "[[4, 94, 38, 27, 86], [63, 21, 53, 35, 63]]"
            ]
          },
          "metadata": {},
          "execution_count": 363
        }
      ]
    },
    {
      "cell_type": "code",
      "source": [
        "# retourner le nombre d'éléments dans la rdd\n",
        "\n",
        "rdd_2.count()"
      ],
      "metadata": {
        "colab": {
          "base_uri": "https://localhost:8080/"
        },
        "id": "ky4_ZwZXkxJz",
        "outputId": "12bceb3c-e4d7-40cc-8d6a-a2e00d4f960d"
      },
      "execution_count": null,
      "outputs": [
        {
          "output_type": "execute_result",
          "data": {
            "text/plain": [
              "10"
            ]
          },
          "metadata": {},
          "execution_count": 364
        }
      ]
    },
    {
      "cell_type": "code",
      "source": [
        "# retourner le nombre de chaque élément dans la rdd\n",
        "\n",
        "rdd_2.countByValue()"
      ],
      "metadata": {
        "colab": {
          "base_uri": "https://localhost:8080/"
        },
        "id": "QtokZ5Tik-17",
        "outputId": "83fe3455-8331-41ec-fc38-ac45adfc8d96"
      },
      "execution_count": null,
      "outputs": [
        {
          "output_type": "execute_result",
          "data": {
            "text/plain": [
              "defaultdict(int,\n",
              "            {4: 1, 94: 1, 38: 1, 27: 1, 86: 1, 63: 2, 21: 1, 53: 1, 35: 1})"
            ]
          },
          "metadata": {},
          "execution_count": 365
        }
      ]
    },
    {
      "cell_type": "code",
      "source": [
        "# afficher le premier élément de la rdd\n",
        "\n",
        "rdd_2.first()"
      ],
      "metadata": {
        "colab": {
          "base_uri": "https://localhost:8080/"
        },
        "id": "trvtJqNhle19",
        "outputId": "f1d8b4df-234b-4a57-96f8-ddbde825ffa6"
      },
      "execution_count": null,
      "outputs": [
        {
          "output_type": "execute_result",
          "data": {
            "text/plain": [
              "4"
            ]
          },
          "metadata": {},
          "execution_count": 366
        }
      ]
    },
    {
      "cell_type": "code",
      "source": [
        "# afficher les éléments en ordre décroissant \n",
        "\n",
        "rdd_2.top(3)"
      ],
      "metadata": {
        "colab": {
          "base_uri": "https://localhost:8080/"
        },
        "id": "-dWvLEToluuV",
        "outputId": "a957fa6e-3d74-4bd1-8bb0-c1b7783e558f"
      },
      "execution_count": null,
      "outputs": [
        {
          "output_type": "execute_result",
          "data": {
            "text/plain": [
              "[94, 86, 63]"
            ]
          },
          "metadata": {},
          "execution_count": 367
        }
      ]
    },
    {
      "cell_type": "code",
      "source": [
        "# retourner la valeur maximale de la rdd avec l'action reduce\n",
        "\n",
        "rdd_2.reduce(lambda x,y: x if x > y else y)"
      ],
      "metadata": {
        "colab": {
          "base_uri": "https://localhost:8080/"
        },
        "id": "cOEePGxCmCkC",
        "outputId": "c258eb33-ee7f-4014-8110-9481273ceeb5"
      },
      "execution_count": null,
      "outputs": [
        {
          "output_type": "execute_result",
          "data": {
            "text/plain": [
              "94"
            ]
          },
          "metadata": {},
          "execution_count": 368
        }
      ]
    },
    {
      "cell_type": "code",
      "source": [
        "# les transformations avec les rdd\n",
        "\n",
        "rdd= sc.parallelize(range(1, 10))"
      ],
      "metadata": {
        "id": "7z1dpDuemguE"
      },
      "execution_count": null,
      "outputs": []
    },
    {
      "cell_type": "code",
      "source": [
        "# retourner une rdd en appliquant une fonction a chaque element de la rdd avec map\n",
        "\n",
        "rdd_1=rdd.map(lambda x: (x, 'a'*x))\n",
        "rdd_1.collect()"
      ],
      "metadata": {
        "colab": {
          "base_uri": "https://localhost:8080/"
        },
        "id": "z-kRhkSWm8hO",
        "outputId": "e07b9ffd-7a29-4a0b-c950-839923b4a43c"
      },
      "execution_count": null,
      "outputs": [
        {
          "output_type": "execute_result",
          "data": {
            "text/plain": [
              "[(1, 'a'),\n",
              " (2, 'aa'),\n",
              " (3, 'aaa'),\n",
              " (4, 'aaaa'),\n",
              " (5, 'aaaaa'),\n",
              " (6, 'aaaaaa'),\n",
              " (7, 'aaaaaaa'),\n",
              " (8, 'aaaaaaaa'),\n",
              " (9, 'aaaaaaaaa')]"
            ]
          },
          "metadata": {},
          "execution_count": 371
        }
      ]
    },
    {
      "cell_type": "code",
      "source": [
        "# renvoyer la rdd contenant les elements avec un predicat avec filter\n",
        "\n",
        "rdd_2 = rdd.filter(lambda x: x % 2 == 0)\n",
        "rdd_2.collect()"
      ],
      "metadata": {
        "colab": {
          "base_uri": "https://localhost:8080/"
        },
        "id": "0to7SvpXnPM-",
        "outputId": "5507ac96-bc71-4158-dc8c-d3edf7c58eac"
      },
      "execution_count": null,
      "outputs": [
        {
          "output_type": "execute_result",
          "data": {
            "text/plain": [
              "[2, 4, 6, 8]"
            ]
          },
          "metadata": {},
          "execution_count": 372
        }
      ]
    },
    {
      "cell_type": "code",
      "source": [
        "# renvoyer une nouvelle rdd en appliquant une nouvelle fonction à tous les éléments\n",
        "# de la rdd et en applatisssant tous les résultats\n",
        "\n",
        "rdd_3 = rdd_2.flatMap(lambda x: [(x, 2*x), (-x, 3*x)])\n",
        "rdd_3.collect()"
      ],
      "metadata": {
        "colab": {
          "base_uri": "https://localhost:8080/"
        },
        "id": "Hi1_QPVEn-NZ",
        "outputId": "6ca935c1-a62e-49f2-cde3-7e44fe93ee27"
      },
      "execution_count": null,
      "outputs": [
        {
          "output_type": "execute_result",
          "data": {
            "text/plain": [
              "[(2, 4), (-2, 6), (4, 8), (-4, 12), (6, 12), (-6, 18), (8, 16), (-8, 24)]"
            ]
          },
          "metadata": {},
          "execution_count": 373
        }
      ]
    },
    {
      "cell_type": "code",
      "source": [
        "# les jointures avec des rdd\n",
        "\n",
        "rdd_4 = sc.parallelize([(\"a\", 1), (\"b\", 2)])\n",
        "rdd_5 = sc.parallelize([(\"b\", 2), (\"b\", 4)])\n",
        "sorted(rdd_4.join(rdd_5).collect())"
      ],
      "metadata": {
        "colab": {
          "base_uri": "https://localhost:8080/"
        },
        "id": "lv5iX7FtoseC",
        "outputId": "c14ff1b4-1874-4fc3-c3c9-091837ff5106"
      },
      "execution_count": null,
      "outputs": [
        {
          "output_type": "execute_result",
          "data": {
            "text/plain": [
              "[('b', (2, 2)), ('b', (2, 4))]"
            ]
          },
          "metadata": {},
          "execution_count": 374
        }
      ]
    },
    {
      "cell_type": "code",
      "source": [
        "rdd_6= rdd_4.union(rdd_5)\n",
        "rdd_6.collect()"
      ],
      "metadata": {
        "colab": {
          "base_uri": "https://localhost:8080/"
        },
        "id": "7UBJgtPiqMIg",
        "outputId": "3d2afc54-0b46-40bd-a51f-0ce2aec935d0"
      },
      "execution_count": null,
      "outputs": [
        {
          "output_type": "execute_result",
          "data": {
            "text/plain": [
              "[('a', 1), ('b', 2), ('b', 2), ('b', 4)]"
            ]
          },
          "metadata": {},
          "execution_count": 375
        }
      ]
    },
    {
      "cell_type": "code",
      "source": [
        "# eliminer les elements qui se repètent dans la rdd\n",
        "\n",
        "rdd_6.distinct().collect()"
      ],
      "metadata": {
        "colab": {
          "base_uri": "https://localhost:8080/"
        },
        "id": "cq50DLfaqyHm",
        "outputId": "a7e572e0-8ffb-4817-d2d7-fee420ecf410"
      },
      "execution_count": null,
      "outputs": [
        {
          "output_type": "execute_result",
          "data": {
            "text/plain": [
              "[('a', 1), ('b', 2), ('b', 4)]"
            ]
          },
          "metadata": {},
          "execution_count": 376
        }
      ]
    },
    {
      "cell_type": "code",
      "source": [
        "# les techniques d'encodage\n",
        "\n",
        "import pyspark\n",
        "from pyspark.sql import SparkSession\n",
        "import pandas as pd\n",
        "\n",
        "df = pd.DataFrame({'Salarié': ['Eric', 'Elise', 'Hapsa', 'Xin'], 'Genre': ['Homme', 'Femme', 'Femme', 'Homme'], 'groupe': ['Technicien',  'Ingénieur','PhD', \n",
        "     'Technicien'],'date_embauche': [2016, 1988, 2012, 2001], 'salaire': [30000, 100000, 60000, 60000]})\n",
        "df"
      ],
      "metadata": {
        "colab": {
          "base_uri": "https://localhost:8080/",
          "height": 175
        },
        "id": "yqTn7j1YrKr2",
        "outputId": "02cdce30-0d9f-4ef8-c098-b5b7a259ca80"
      },
      "execution_count": null,
      "outputs": [
        {
          "output_type": "execute_result",
          "data": {
            "text/plain": [
              "  Salarié  Genre      groupe  date_embauche  salaire\n",
              "0    Eric  Homme  Technicien           2016    30000\n",
              "1   Elise  Femme   Ingénieur           1988   100000\n",
              "2   Hapsa  Femme         PhD           2012    60000\n",
              "3     Xin  Homme  Technicien           2001    60000"
            ],
            "text/html": [
              "\n",
              "  <div id=\"df-39bf761f-65dc-40df-b015-4a165c1b4a85\">\n",
              "    <div class=\"colab-df-container\">\n",
              "      <div>\n",
              "<style scoped>\n",
              "    .dataframe tbody tr th:only-of-type {\n",
              "        vertical-align: middle;\n",
              "    }\n",
              "\n",
              "    .dataframe tbody tr th {\n",
              "        vertical-align: top;\n",
              "    }\n",
              "\n",
              "    .dataframe thead th {\n",
              "        text-align: right;\n",
              "    }\n",
              "</style>\n",
              "<table border=\"1\" class=\"dataframe\">\n",
              "  <thead>\n",
              "    <tr style=\"text-align: right;\">\n",
              "      <th></th>\n",
              "      <th>Salarié</th>\n",
              "      <th>Genre</th>\n",
              "      <th>groupe</th>\n",
              "      <th>date_embauche</th>\n",
              "      <th>salaire</th>\n",
              "    </tr>\n",
              "  </thead>\n",
              "  <tbody>\n",
              "    <tr>\n",
              "      <th>0</th>\n",
              "      <td>Eric</td>\n",
              "      <td>Homme</td>\n",
              "      <td>Technicien</td>\n",
              "      <td>2016</td>\n",
              "      <td>30000</td>\n",
              "    </tr>\n",
              "    <tr>\n",
              "      <th>1</th>\n",
              "      <td>Elise</td>\n",
              "      <td>Femme</td>\n",
              "      <td>Ingénieur</td>\n",
              "      <td>1988</td>\n",
              "      <td>100000</td>\n",
              "    </tr>\n",
              "    <tr>\n",
              "      <th>2</th>\n",
              "      <td>Hapsa</td>\n",
              "      <td>Femme</td>\n",
              "      <td>PhD</td>\n",
              "      <td>2012</td>\n",
              "      <td>60000</td>\n",
              "    </tr>\n",
              "    <tr>\n",
              "      <th>3</th>\n",
              "      <td>Xin</td>\n",
              "      <td>Homme</td>\n",
              "      <td>Technicien</td>\n",
              "      <td>2001</td>\n",
              "      <td>60000</td>\n",
              "    </tr>\n",
              "  </tbody>\n",
              "</table>\n",
              "</div>\n",
              "      <button class=\"colab-df-convert\" onclick=\"convertToInteractive('df-39bf761f-65dc-40df-b015-4a165c1b4a85')\"\n",
              "              title=\"Convert this dataframe to an interactive table.\"\n",
              "              style=\"display:none;\">\n",
              "        \n",
              "  <svg xmlns=\"http://www.w3.org/2000/svg\" height=\"24px\"viewBox=\"0 0 24 24\"\n",
              "       width=\"24px\">\n",
              "    <path d=\"M0 0h24v24H0V0z\" fill=\"none\"/>\n",
              "    <path d=\"M18.56 5.44l.94 2.06.94-2.06 2.06-.94-2.06-.94-.94-2.06-.94 2.06-2.06.94zm-11 1L8.5 8.5l.94-2.06 2.06-.94-2.06-.94L8.5 2.5l-.94 2.06-2.06.94zm10 10l.94 2.06.94-2.06 2.06-.94-2.06-.94-.94-2.06-.94 2.06-2.06.94z\"/><path d=\"M17.41 7.96l-1.37-1.37c-.4-.4-.92-.59-1.43-.59-.52 0-1.04.2-1.43.59L10.3 9.45l-7.72 7.72c-.78.78-.78 2.05 0 2.83L4 21.41c.39.39.9.59 1.41.59.51 0 1.02-.2 1.41-.59l7.78-7.78 2.81-2.81c.8-.78.8-2.07 0-2.86zM5.41 20L4 18.59l7.72-7.72 1.47 1.35L5.41 20z\"/>\n",
              "  </svg>\n",
              "      </button>\n",
              "      \n",
              "  <style>\n",
              "    .colab-df-container {\n",
              "      display:flex;\n",
              "      flex-wrap:wrap;\n",
              "      gap: 12px;\n",
              "    }\n",
              "\n",
              "    .colab-df-convert {\n",
              "      background-color: #E8F0FE;\n",
              "      border: none;\n",
              "      border-radius: 50%;\n",
              "      cursor: pointer;\n",
              "      display: none;\n",
              "      fill: #1967D2;\n",
              "      height: 32px;\n",
              "      padding: 0 0 0 0;\n",
              "      width: 32px;\n",
              "    }\n",
              "\n",
              "    .colab-df-convert:hover {\n",
              "      background-color: #E2EBFA;\n",
              "      box-shadow: 0px 1px 2px rgba(60, 64, 67, 0.3), 0px 1px 3px 1px rgba(60, 64, 67, 0.15);\n",
              "      fill: #174EA6;\n",
              "    }\n",
              "\n",
              "    [theme=dark] .colab-df-convert {\n",
              "      background-color: #3B4455;\n",
              "      fill: #D2E3FC;\n",
              "    }\n",
              "\n",
              "    [theme=dark] .colab-df-convert:hover {\n",
              "      background-color: #434B5C;\n",
              "      box-shadow: 0px 1px 3px 1px rgba(0, 0, 0, 0.15);\n",
              "      filter: drop-shadow(0px 1px 2px rgba(0, 0, 0, 0.3));\n",
              "      fill: #FFFFFF;\n",
              "    }\n",
              "  </style>\n",
              "\n",
              "      <script>\n",
              "        const buttonEl =\n",
              "          document.querySelector('#df-39bf761f-65dc-40df-b015-4a165c1b4a85 button.colab-df-convert');\n",
              "        buttonEl.style.display =\n",
              "          google.colab.kernel.accessAllowed ? 'block' : 'none';\n",
              "\n",
              "        async function convertToInteractive(key) {\n",
              "          const element = document.querySelector('#df-39bf761f-65dc-40df-b015-4a165c1b4a85');\n",
              "          const dataTable =\n",
              "            await google.colab.kernel.invokeFunction('convertToInteractive',\n",
              "                                                     [key], {});\n",
              "          if (!dataTable) return;\n",
              "\n",
              "          const docLinkHtml = 'Like what you see? Visit the ' +\n",
              "            '<a target=\"_blank\" href=https://colab.research.google.com/notebooks/data_table.ipynb>data table notebook</a>'\n",
              "            + ' to learn more about interactive tables.';\n",
              "          element.innerHTML = '';\n",
              "          dataTable['output_type'] = 'display_data';\n",
              "          await google.colab.output.renderOutput(dataTable, element);\n",
              "          const docLink = document.createElement('div');\n",
              "          docLink.innerHTML = docLinkHtml;\n",
              "          element.appendChild(docLink);\n",
              "        }\n",
              "      </script>\n",
              "    </div>\n",
              "  </div>\n",
              "  "
            ]
          },
          "metadata": {},
          "execution_count": 399
        }
      ]
    }
  ]
}